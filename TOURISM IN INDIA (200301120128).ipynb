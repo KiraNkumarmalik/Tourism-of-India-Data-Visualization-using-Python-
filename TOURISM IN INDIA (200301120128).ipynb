{
 "cells": [
  {
   "cell_type": "markdown",
   "metadata": {},
   "source": [
    "# Python Pandas"
   ]
  },
  {
   "cell_type": "code",
   "execution_count": 1,
   "metadata": {},
   "outputs": [],
   "source": [
    "import pandas as pd"
   ]
  },
  {
   "cell_type": "markdown",
   "metadata": {},
   "source": [
    "# Creating a Series using List"
   ]
  },
  {
   "cell_type": "code",
   "execution_count": 2,
   "metadata": {},
   "outputs": [
    {
     "name": "stdout",
     "output_type": "stream",
     "text": [
      "0    2.5\n",
      "1    4.0\n",
      "2    4.7\n",
      "3    6.0\n",
      "4    6.9\n",
      "5    9.0\n",
      "dtype: float64\n"
     ]
    }
   ],
   "source": [
    "import pandas as pd\n",
    "ser1 = pd.Series([2.5, 4, 4.7, 6.0, 6.9, 9])\n",
    "print(ser1)"
   ]
  },
  {
   "cell_type": "markdown",
   "metadata": {},
   "source": [
    "# Creating Series of string values with name"
   ]
  },
  {
   "cell_type": "code",
   "execution_count": 3,
   "metadata": {},
   "outputs": [
    {
     "name": "stdout",
     "output_type": "stream",
     "text": [
      "0        India\n",
      "1    Australia\n",
      "2      England\n",
      "Name: Countries, dtype: object\n"
     ]
    }
   ],
   "source": [
    "import pandas as pd\n",
    "ser2 = pd.Series([\"India\", \"Australia\", \"England\"], name=\"Countries\")\n",
    "print(ser2)"
   ]
  },
  {
   "cell_type": "markdown",
   "metadata": {},
   "source": [
    "# Python shorthand for list creation used to create Series"
   ]
  },
  {
   "cell_type": "code",
   "execution_count": 4,
   "metadata": {},
   "outputs": [
    {
     "name": "stdout",
     "output_type": "stream",
     "text": [
      "0    K\n",
      "1    K\n",
      "2    K\n",
      "3    K\n",
      "4    K\n",
      "5    K\n",
      "dtype: object\n"
     ]
    }
   ],
   "source": [
    "import pandas as pd\n",
    "ser3 = pd.Series([\"K\"]*6)\n",
    "print(ser3)"
   ]
  },
  {
   "cell_type": "markdown",
   "metadata": {},
   "source": [
    "# Creating Series using dictionary"
   ]
  },
  {
   "cell_type": "code",
   "execution_count": 5,
   "metadata": {},
   "outputs": [
    {
     "name": "stdout",
     "output_type": "stream",
     "text": [
      "India           New Delhi\n",
      "Australia        Canberra\n",
      "New zealand    Willington\n",
      "dtype: object\n"
     ]
    }
   ],
   "source": [
    "import pandas as pd\n",
    "ser4 = pd.Series({\"India\": \"New Delhi\",\n",
    "\"Australia\": \"Canberra\",\n",
    "\"New zealand\": \"Willington\"})\n",
    "print(ser4)"
   ]
  },
  {
   "cell_type": "markdown",
   "metadata": {},
   "source": [
    "# Create series using NumPy functions"
   ]
  },
  {
   "cell_type": "code",
   "execution_count": 8,
   "metadata": {},
   "outputs": [
    {
     "name": "stdout",
     "output_type": "stream",
     "text": [
      "0      1.0\n",
      "1     12.0\n",
      "2     23.0\n",
      "3     34.0\n",
      "4     45.0\n",
      "5     56.0\n",
      "6     67.0\n",
      "7     78.0\n",
      "8     89.0\n",
      "9    100.0\n",
      "dtype: float64\n"
     ]
    }
   ],
   "source": [
    "import pandas as pd\n",
    "import numpy as np\n",
    "ser1 = pd.Series(np.linspace(1, 100, 10))\n",
    "print(ser1)"
   ]
  },
  {
   "cell_type": "markdown",
   "metadata": {},
   "source": [
    "# Get index and values of a series"
   ]
  },
  {
   "cell_type": "code",
   "execution_count": 9,
   "metadata": {},
   "outputs": [
    {
     "name": "stdout",
     "output_type": "stream",
     "text": [
      "['New Delhi' 'Canberra' 'Willington']\n",
      "Index(['India', 'Australia', 'New zealand'], dtype='object')\n"
     ]
    }
   ],
   "source": [
    "import pandas as pd\n",
    "import numpy as np\n",
    "ser1 = pd.Series({\"India\": \"New Delhi\",\n",
    "\"Australia\": \"Canberra\",\n",
    "\"New zealand\": \"Willington\"})\n",
    "print(ser1.values)\n",
    "print(ser1.index)"
   ]
  },
  {
   "cell_type": "markdown",
   "metadata": {},
   "source": [
    "# Specify an index at Series creation"
   ]
  },
  {
   "cell_type": "code",
   "execution_count": 10,
   "metadata": {},
   "outputs": [
    {
     "name": "stdout",
     "output_type": "stream",
     "text": [
      "IND           India\n",
      "AUS       Australia\n",
      "ENG         England\n",
      "NZ      New zealand\n",
      "SA     South Africa\n",
      "SL        Sri lanka\n",
      "dtype: object\n"
     ]
    }
   ],
   "source": [
    "import pandas as pd\n",
    "values = [\"India\", \"Australia\", \"England\",\n",
    "\"New zealand\", \"South Africa\", \"Sri lanka\"]\n",
    "code = [\"IND\", \"AUS\", \"ENG\", \"NZ\", \"SA\", \"SL\"]\n",
    "ser1 = pd.Series(values, index=code)\n",
    "print(ser1)"
   ]
  },
  {
   "cell_type": "markdown",
   "metadata": {},
   "source": [
    "# Get Length Size and Shape of a Series"
   ]
  },
  {
   "cell_type": "code",
   "execution_count": 11,
   "metadata": {},
   "outputs": [
    {
     "name": "stdout",
     "output_type": "stream",
     "text": [
      "6\n",
      "(6,)\n",
      "6\n"
     ]
    }
   ],
   "source": [
    "import pandas as pd\n",
    "values = [\"India\", \"Australia\", \"England\",\n",
    "\"New zealand\", \"South Africa\", \"Sri lanka\"]\n",
    "code = [\"IND\", \"AUS\", \"ENG\", \"NZ\", \"SA\", \"SL\"]\n",
    "ser1 = pd.Series(values, index=code)\n",
    "print(len(ser1))\n",
    "print(ser1.shape)\n",
    "print(ser1.size)"
   ]
  },
  {
   "cell_type": "markdown",
   "metadata": {},
   "source": [
    "# Get the first or last few rows from a Series"
   ]
  },
  {
   "cell_type": "markdown",
   "metadata": {},
   "source": [
    "# Example of Head()"
   ]
  },
  {
   "cell_type": "code",
   "execution_count": 12,
   "metadata": {},
   "outputs": [
    {
     "name": "stdout",
     "output_type": "stream",
     "text": [
      "IND           India\n",
      "AUS       Australia\n",
      "ENG         England\n",
      "NZ      New zealand\n",
      "SA     South Africa\n",
      "SL        Sri lanka\n",
      "dtype: object\n"
     ]
    }
   ],
   "source": [
    "import pandas as pd\n",
    "values = [\"India\", \"Australia\", \"England\",\n",
    "\"New zealand\", \"South Africa\", \"Sri lanka\"]\n",
    "code = [\"IND\", \"AUS\", \"ENG\", \"NZ\", \"SA\", \"SL\"]\n",
    "ser1 = pd.Series(values, index=code)\n",
    "print(ser1)"
   ]
  },
  {
   "cell_type": "code",
   "execution_count": 13,
   "metadata": {},
   "outputs": [
    {
     "data": {
      "text/plain": [
       "IND           India\n",
       "AUS       Australia\n",
       "ENG         England\n",
       "NZ      New zealand\n",
       "SA     South Africa\n",
       "dtype: object"
      ]
     },
     "execution_count": 13,
     "metadata": {},
     "output_type": "execute_result"
    }
   ],
   "source": [
    "ser1.head()"
   ]
  },
  {
   "cell_type": "code",
   "execution_count": 14,
   "metadata": {},
   "outputs": [
    {
     "data": {
      "text/plain": [
       "IND        India\n",
       "AUS    Australia\n",
       "ENG      England\n",
       "dtype: object"
      ]
     },
     "execution_count": 14,
     "metadata": {},
     "output_type": "execute_result"
    }
   ],
   "source": [
    "ser1.head(3)"
   ]
  },
  {
   "cell_type": "markdown",
   "metadata": {},
   "source": [
    "# Example of Tail()"
   ]
  },
  {
   "cell_type": "markdown",
   "metadata": {},
   "source": [
    "# import pandas as pd\n",
    "values = [\"India\", \"Australia\", \"England\",\n",
    "\"New zealand\", \"South Africa\", \"Sri lanka\"]\n",
    "code = [\"IND\", \"AUS\", \"ENG\", \"NZ\", \"SA\", \"SL\"]\n",
    "ser1 = pd.Series(values, index=code)\n",
    "print(ser1)"
   ]
  },
  {
   "cell_type": "code",
   "execution_count": 16,
   "metadata": {},
   "outputs": [
    {
     "data": {
      "text/plain": [
       "AUS       Australia\n",
       "ENG         England\n",
       "NZ      New zealand\n",
       "SA     South Africa\n",
       "SL        Sri lanka\n",
       "dtype: object"
      ]
     },
     "execution_count": 16,
     "metadata": {},
     "output_type": "execute_result"
    }
   ],
   "source": [
    "ser1.tail()"
   ]
  },
  {
   "cell_type": "code",
   "execution_count": 17,
   "metadata": {},
   "outputs": [
    {
     "data": {
      "text/plain": [
       "NZ     New zealand\n",
       "SA    South Africa\n",
       "SL       Sri lanka\n",
       "dtype: object"
      ]
     },
     "execution_count": 17,
     "metadata": {},
     "output_type": "execute_result"
    }
   ],
   "source": [
    "ser1.tail(3)"
   ]
  },
  {
   "cell_type": "markdown",
   "metadata": {},
   "source": [
    "# Example of Take()"
   ]
  },
  {
   "cell_type": "code",
   "execution_count": 18,
   "metadata": {},
   "outputs": [
    {
     "name": "stdout",
     "output_type": "stream",
     "text": [
      "IND           India\n",
      "AUS       Australia\n",
      "ENG         England\n",
      "NZ      New zealand\n",
      "SA     South Africa\n",
      "SL        Sri lanka\n",
      "dtype: object\n"
     ]
    }
   ],
   "source": [
    "import pandas as pd\n",
    "values = [\"India\", \"Australia\", \"England\",\n",
    "\"New zealand\", \"South Africa\", \"Sri lanka\"]\n",
    "code = [\"IND\", \"AUS\", \"ENG\", \"NZ\", \"SA\", \"SL\"]\n",
    "ser1 = pd.Series(values, index=code)\n",
    "print(ser1)"
   ]
  },
  {
   "cell_type": "code",
   "execution_count": 19,
   "metadata": {},
   "outputs": [
    {
     "data": {
      "text/plain": [
       "AUS       Australia\n",
       "SL        Sri lanka\n",
       "SA     South Africa\n",
       "dtype: object"
      ]
     },
     "execution_count": 19,
     "metadata": {},
     "output_type": "execute_result"
    }
   ],
   "source": [
    "ser1.take([1, 5, 4])"
   ]
  },
  {
   "cell_type": "code",
   "execution_count": 20,
   "metadata": {},
   "outputs": [
    {
     "data": {
      "text/plain": [
       "ENG      England\n",
       "SL     Sri lanka\n",
       "dtype: object"
      ]
     },
     "execution_count": 20,
     "metadata": {},
     "output_type": "execute_result"
    }
   ],
   "source": [
    "ser1.take([2, 5])"
   ]
  },
  {
   "cell_type": "markdown",
   "metadata": {},
   "source": [
    "# Slicing a Series into subsets"
   ]
  },
  {
   "cell_type": "code",
   "execution_count": 21,
   "metadata": {},
   "outputs": [
    {
     "data": {
      "text/plain": [
       "A      0\n",
       "B    254\n",
       "C    460\n",
       "D    501\n",
       "E    524\n",
       "F    632\n",
       "G    689\n",
       "H    745\n",
       "I    879\n",
       "J    989\n",
       "dtype: int64"
      ]
     },
     "execution_count": 21,
     "metadata": {},
     "output_type": "execute_result"
    }
   ],
   "source": [
    "import pandas as pd\n",
    "num = [000, 254, 460, 501, 524, 632, 689, 745, 879, 989]\n",
    "idx = ['A', 'B', 'C', 'D', 'E', 'F', 'G', 'H', 'I', 'J']\n",
    "series = pd.Series(num, index=idx)\n",
    "series"
   ]
  },
  {
   "cell_type": "code",
   "execution_count": 22,
   "metadata": {},
   "outputs": [
    {
     "data": {
      "text/plain": [
       "A      0\n",
       "B    254\n",
       "C    460\n",
       "D    501\n",
       "E    524\n",
       "dtype: int64"
      ]
     },
     "execution_count": 22,
     "metadata": {},
     "output_type": "execute_result"
    }
   ],
   "source": [
    "series[0:5] "
   ]
  },
  {
   "cell_type": "code",
   "execution_count": 23,
   "metadata": {},
   "outputs": [
    {
     "data": {
      "text/plain": [
       "D    501\n",
       "E    524\n",
       "F    632\n",
       "G    689\n",
       "dtype: int64"
      ]
     },
     "execution_count": 23,
     "metadata": {},
     "output_type": "execute_result"
    }
   ],
   "source": [
    "series[3:7]"
   ]
  },
  {
   "cell_type": "code",
   "execution_count": 29,
   "metadata": {},
   "outputs": [
    {
     "data": {
      "text/plain": [
       "C    460\n",
       "F    632\n",
       "dtype: int64"
      ]
     },
     "execution_count": 29,
     "metadata": {},
     "output_type": "execute_result"
    }
   ],
   "source": [
    "series[2:7:3]"
   ]
  },
  {
   "cell_type": "code",
   "execution_count": 30,
   "metadata": {},
   "outputs": [
    {
     "data": {
      "text/plain": [
       "A      0\n",
       "B    254\n",
       "C    460\n",
       "D    501\n",
       "E    524\n",
       "F    632\n",
       "G    689\n",
       "H    745\n",
       "dtype: int64"
      ]
     },
     "execution_count": 30,
     "metadata": {},
     "output_type": "execute_result"
    }
   ],
   "source": [
    "series[:8]"
   ]
  },
  {
   "cell_type": "code",
   "execution_count": 38,
   "metadata": {},
   "outputs": [
    {
     "data": {
      "text/plain": [
       "G    689\n",
       "J    989\n",
       "dtype: int64"
      ]
     },
     "execution_count": 38,
     "metadata": {},
     "output_type": "execute_result"
    }
   ],
   "source": [
    "series[6::3]"
   ]
  },
  {
   "cell_type": "code",
   "execution_count": 40,
   "metadata": {},
   "outputs": [
    {
     "data": {
      "text/plain": [
       "J    989\n",
       "I    879\n",
       "H    745\n",
       "G    689\n",
       "F    632\n",
       "E    524\n",
       "D    501\n",
       "C    460\n",
       "B    254\n",
       "A      0\n",
       "dtype: int64"
      ]
     },
     "execution_count": 40,
     "metadata": {},
     "output_type": "execute_result"
    }
   ],
   "source": [
    "series[::-1]"
   ]
  },
  {
   "cell_type": "markdown",
   "metadata": {},
   "source": [
    "# DATAFRAME"
   ]
  },
  {
   "cell_type": "markdown",
   "metadata": {},
   "source": [
    "# Create and Print DataFrame"
   ]
  },
  {
   "cell_type": "code",
   "execution_count": 42,
   "metadata": {},
   "outputs": [
    {
     "name": "stdout",
     "output_type": "stream",
     "text": [
      "  EmpCode     Name  Occupation Date Of Join  Age\n",
      "0  Emp110    Kiran  Programmer   2020-08-19   22\n",
      "1  Emp111   Tanuja  Journalist   2020-10-26   21\n",
      "2  Emp112    Mohan    Mechanic   2019-06-07   23\n",
      "3  Emp113   Barsha    Engineer   2017-02-30   26\n",
      "4  Emp114  Hemanta     Postman   2018-12-24   34\n"
     ]
    }
   ],
   "source": [
    "import pandas as pd\n",
    "employees = pd.DataFrame({\n",
    "'EmpCode': ['Emp110', 'Emp111', 'Emp112', 'Emp113', 'Emp114'],\n",
    "'Name': ['Kiran', 'Tanuja', 'Mohan', 'Barsha', 'Hemanta'],\n",
    "'Occupation': ['Programmer', 'Journalist', 'Mechanic',\n",
    "'Engineer', 'Postman'],\n",
    "'Date Of Join': ['2020-08-19', '2020-10-26', '2019-06-07', '2017-02-30',\n",
    "'2018-12-24'],\n",
    "'Age': [22, 21, 23, 26, 34]})\n",
    "print(employees)"
   ]
  },
  {
   "cell_type": "markdown",
   "metadata": {},
   "source": [
    "# Set Index and Columns in Pandas"
   ]
  },
  {
   "cell_type": "code",
   "execution_count": 43,
   "metadata": {},
   "outputs": [
    {
     "name": "stdout",
     "output_type": "stream",
     "text": [
      "           Name  Occupation Date Of Join  Age\n",
      "Emp001    Kiran  Programmer   2020-08-19   22\n",
      "Emp002   Tanuja  Journalist   2020-10-26   21\n",
      "Emp003    Mohan    Mechanic   2019-06-07   23\n",
      "Emp004   Barsha    Engineer   2017-02-30   26\n",
      "Emp005  Hemanta     Postman   2018-12-24   34\n"
     ]
    }
   ],
   "source": [
    "import pandas as pd\n",
    "employees1 = pd.DataFrame({\n",
    "'EmpCode': ['Emp110', 'Emp111', 'Emp112', 'Emp113', 'Emp114'],\n",
    "'Name': ['Kiran', 'Tanuja', 'Mohan', 'Barsha', 'Hemanta'],\n",
    "'Occupation': ['Programmer', 'Journalist', 'Mechanic',\n",
    "'Engineer', 'Postman'],\n",
    "'Date Of Join': ['2020-08-19', '2020-10-26', '2019-06-07', '2017-02-30',\n",
    "'2018-12-24'],\n",
    "'Age': [22, 21, 23, 26, 34]},\n",
    "index=['Emp001', 'Emp002','Emp003', 'Emp004', 'Emp005'],\n",
    "columns=['Name', 'Occupation', 'Date Of Join', 'Age'])\n",
    "print(employees1)"
   ]
  },
  {
   "cell_type": "markdown",
   "metadata": {},
   "source": [
    "# Rename DataFrame Columns"
   ]
  },
  {
   "cell_type": "code",
   "execution_count": 44,
   "metadata": {},
   "outputs": [
    {
     "name": "stdout",
     "output_type": "stream",
     "text": [
      "  EmpCode     Name  Occupation Date Of Join  Age\n",
      "0  Emp110    Kiran  Programmer   2020-08-19   22\n",
      "1  Emp111   Tanuja  Journalist   2020-10-26   21\n",
      "2  Emp112    Mohan    Mechanic   2019-06-07   23\n",
      "3  Emp113   Barsha    Engineer   2017-02-30   26\n",
      "4  Emp114  Hemanta     Postman   2018-12-24   34\n"
     ]
    }
   ],
   "source": [
    "import pandas as pd\n",
    "employees = pd.DataFrame({\n",
    "'EmpCode': ['Emp110', 'Emp111', 'Emp112', 'Emp113', 'Emp114'],\n",
    "'Name': ['Kiran', 'Tanuja', 'Mohan', 'Barsha', 'Hemanta'],\n",
    "'Occupation': ['Programmer', 'Journalist', 'Mechanic',\n",
    "'Engineer', 'Postman'],\n",
    "'Date Of Join': ['2020-08-19', '2020-10-26', '2019-06-07', '2017-02-30',\n",
    "'2018-12-24'],\n",
    "'Age': [22, 21, 23, 26, 34]})\n",
    "print(employees)"
   ]
  },
  {
   "cell_type": "code",
   "execution_count": 45,
   "metadata": {},
   "outputs": [
    {
     "name": "stdout",
     "output_type": "stream",
     "text": [
      "  EmpCode  EmpName EmpOccupation      EmpDOJ  EmpAge\n",
      "0  Emp110    Kiran    Programmer  2020-08-19      22\n",
      "1  Emp111   Tanuja    Journalist  2020-10-26      21\n",
      "2  Emp112    Mohan      Mechanic  2019-06-07      23\n",
      "3  Emp113   Barsha      Engineer  2017-02-30      26\n",
      "4  Emp114  Hemanta       Postman  2018-12-24      34\n"
     ]
    }
   ],
   "source": [
    "employees.columns = ['EmpCode', 'EmpName', 'EmpOccupation', 'EmpDOJ', 'EmpAge']\n",
    "print(employees)"
   ]
  },
  {
   "cell_type": "markdown",
   "metadata": {},
   "source": [
    "# Drop DataFrame Column(s) by Name and Index"
   ]
  },
  {
   "cell_type": "code",
   "execution_count": 46,
   "metadata": {},
   "outputs": [
    {
     "name": "stdout",
     "output_type": "stream",
     "text": [
      "  EmpCode     Name  Occupation Date Of Join  Age\n",
      "0  Emp110    Kiran  Programmer   2020-08-19   22\n",
      "1  Emp111   Tanuja  Journalist   2020-10-26   21\n",
      "2  Emp112    Mohan    Mechanic   2019-06-07   23\n",
      "3  Emp113   Barsha    Engineer   2017-02-30   26\n",
      "4  Emp114  Hemanta     Postman   2018-12-24   34\n"
     ]
    }
   ],
   "source": [
    "import pandas as pd\n",
    "employees = pd.DataFrame({\n",
    "'EmpCode': ['Emp110', 'Emp111', 'Emp112', 'Emp113', 'Emp114'],\n",
    "'Name': ['Kiran', 'Tanuja', 'Mohan', 'Barsha', 'Hemanta'],\n",
    "'Occupation': ['Programmer', 'Journalist', 'Mechanic',\n",
    "'Engineer', 'Postman'],\n",
    "'Date Of Join': ['2020-08-19', '2020-10-26', '2019-06-07', '2017-02-30',\n",
    "'2018-12-24'],\n",
    "'Age': [22, 21, 23, 26, 34]})\n",
    "print(employees)"
   ]
  },
  {
   "cell_type": "code",
   "execution_count": 47,
   "metadata": {},
   "outputs": [
    {
     "name": "stdout",
     "output_type": "stream",
     "text": [
      "  EmpCode     Name  Occupation  Age\n",
      "0  Emp110    Kiran  Programmer   22\n",
      "1  Emp111   Tanuja  Journalist   21\n",
      "2  Emp112    Mohan    Mechanic   23\n",
      "3  Emp113   Barsha    Engineer   26\n",
      "4  Emp114  Hemanta     Postman   34\n"
     ]
    }
   ],
   "source": [
    "employees.drop('Date Of Join', axis=1, inplace=True)\n",
    "print(employees)"
   ]
  },
  {
   "cell_type": "markdown",
   "metadata": {},
   "source": [
    "# Add Column to DataFrame"
   ]
  },
  {
   "cell_type": "code",
   "execution_count": 53,
   "metadata": {},
   "outputs": [
    {
     "name": "stdout",
     "output_type": "stream",
     "text": [
      "  EmpCode     Name  Occupation Date Of Join  Age\n",
      "0  Emp110    Kiran  Programmer   2020-08-19   22\n",
      "1  Emp111   Tanuja  Journalist   2020-10-26   21\n",
      "2  Emp112    Mohan    Mechanic   2019-06-07   23\n",
      "3  Emp113   Barsha    Engineer   2017-02-30   26\n",
      "4  Emp114  Hemanta     Postman   2018-12-24   34\n"
     ]
    }
   ],
   "source": [
    "import pandas as pd\n",
    "employees = pd.DataFrame({\n",
    "'EmpCode': ['Emp110', 'Emp111', 'Emp112', 'Emp113', 'Emp114'],\n",
    "'Name': ['Kiran', 'Tanuja', 'Mohan', 'Barsha', 'Hemanta'],\n",
    "'Occupation': ['Programmer', 'Journalist', 'Mechanic',\n",
    "'Engineer', 'Postman'],\n",
    "'Date Of Join': ['2020-08-19', '2020-10-26', '2019-06-07', '2017-02-30',\n",
    "'2018-12-24'],\n",
    "'Age': [22, 21, 23, 26, 34]})\n",
    "print(employees)"
   ]
  },
  {
   "cell_type": "code",
   "execution_count": 54,
   "metadata": {},
   "outputs": [
    {
     "name": "stdout",
     "output_type": "stream",
     "text": [
      "  EmpCode     Name  Occupation Date Of Join  Age         City\n",
      "0  Emp110    Kiran  Programmer   2020-08-19   22  Bhubaneswer\n",
      "1  Emp111   Tanuja  Journalist   2020-10-26   21      Cuttack\n",
      "2  Emp112    Mohan    Mechanic   2019-06-07   23      Bhadrak\n",
      "3  Emp113   Barsha    Engineer   2017-02-30   26     Balasore\n",
      "4  Emp114  Hemanta     Postman   2018-12-24   34     Rourkela\n"
     ]
    }
   ],
   "source": [
    "employees['City'] = ['Bhubaneswer', 'Cuttack', 'Bhadrak', 'Balasore', 'Rourkela']\n",
    "print(employees)"
   ]
  },
  {
   "cell_type": "markdown",
   "metadata": {},
   "source": [
    "# Get list of the column headers"
   ]
  },
  {
   "cell_type": "code",
   "execution_count": 55,
   "metadata": {},
   "outputs": [
    {
     "name": "stdout",
     "output_type": "stream",
     "text": [
      "  EmpCode     Name  Occupation Date Of Join  Age\n",
      "0  Emp110    Kiran  Programmer   2020-08-19   22\n",
      "1  Emp111   Tanuja  Journalist   2020-10-26   21\n",
      "2  Emp112    Mohan    Mechanic   2019-06-07   23\n",
      "3  Emp113   Barsha    Engineer   2017-02-30   26\n",
      "4  Emp114  Hemanta     Postman   2018-12-24   34\n"
     ]
    }
   ],
   "source": [
    "import pandas as pd\n",
    "employees = pd.DataFrame({\n",
    "'EmpCode': ['Emp110', 'Emp111', 'Emp112', 'Emp113', 'Emp114'],\n",
    "'Name': ['Kiran', 'Tanuja', 'Mohan', 'Barsha', 'Hemanta'],\n",
    "'Occupation': ['Programmer', 'Journalist', 'Mechanic',\n",
    "'Engineer', 'Postman'],\n",
    "'Date Of Join': ['2020-08-19', '2020-10-26', '2019-06-07', '2017-02-30',\n",
    "'2018-12-24'],\n",
    "'Age': [22, 21, 23, 26, 34]})\n",
    "print(employees)"
   ]
  },
  {
   "cell_type": "code",
   "execution_count": 64,
   "metadata": {},
   "outputs": [
    {
     "name": "stdout",
     "output_type": "stream",
     "text": [
      "['EmpCode', 'Name', 'Occupation', 'Date Of Join', 'Age']\n"
     ]
    }
   ],
   "source": [
    "print(list(employees))"
   ]
  },
  {
   "cell_type": "code",
   "execution_count": 62,
   "metadata": {},
   "outputs": [
    {
     "name": "stdout",
     "output_type": "stream",
     "text": [
      "['EmpCode', 'Name', 'Occupation', 'Date Of Join', 'Age']\n"
     ]
    }
   ],
   "source": [
    "print(employees.columns.tolist())"
   ]
  },
  {
   "cell_type": "code",
   "execution_count": 63,
   "metadata": {},
   "outputs": [
    {
     "name": "stdout",
     "output_type": "stream",
     "text": [
      "['EmpCode', 'Name', 'Occupation', 'Date Of Join', 'Age']\n"
     ]
    }
   ],
   "source": [
    "print(list(employees.columns.values))"
   ]
  },
  {
   "cell_type": "markdown",
   "metadata": {},
   "source": [
    "# Generate DataFrame with random values"
   ]
  },
  {
   "cell_type": "code",
   "execution_count": 71,
   "metadata": {},
   "outputs": [
    {
     "name": "stdout",
     "output_type": "stream",
     "text": [
      "         A    B    C    D    E    F\n",
      "Row-0  359  399  253  641  136  145\n",
      "Row-1  347  657  984  650   63  535\n",
      "Row-2  620  105  106  679  872  970\n",
      "Row-3  776  935  852  678  834  913\n",
      "Row-4  937  627  108  624  333  556\n",
      "Row-5  927  378  884  581  498  232\n",
      "Row-6  786  495  471  939  570  802\n",
      "Row-7  260  432  296  436  638  425\n",
      "Row-8  441  583  189  646  546  361\n",
      "Row-9   96  330  392  566  334  349\n"
     ]
    }
   ],
   "source": [
    "import pandas as pd\n",
    "import numpy as np\n",
    "df_random = pd.DataFrame(np.random.randint(1000, size=(10, 6)),\n",
    "columns=list('ABCDEF'),\n",
    "index=['Row-{}'.format(i) for i in range(10)])\n",
    "print(df_random)"
   ]
  },
  {
   "cell_type": "markdown",
   "metadata": {},
   "source": [
    "# Select multiple columns from DataFrame"
   ]
  },
  {
   "cell_type": "code",
   "execution_count": 72,
   "metadata": {},
   "outputs": [
    {
     "name": "stdout",
     "output_type": "stream",
     "text": [
      "  EmpCode     Name  Occupation Date Of Join  Age\n",
      "0  Emp110    Kiran  Programmer   2020-08-19   22\n",
      "1  Emp111   Tanuja  Journalist   2020-10-26   21\n",
      "2  Emp112    Mohan    Mechanic   2019-06-07   23\n",
      "3  Emp113   Barsha    Engineer   2017-02-30   26\n",
      "4  Emp114  Hemanta     Postman   2018-12-24   34\n"
     ]
    }
   ],
   "source": [
    "import pandas as pd\n",
    "employees = pd.DataFrame({\n",
    "'EmpCode': ['Emp110', 'Emp111', 'Emp112', 'Emp113', 'Emp114'],\n",
    "'Name': ['Kiran', 'Tanuja', 'Mohan', 'Barsha', 'Hemanta'],\n",
    "'Occupation': ['Programmer', 'Journalist', 'Mechanic',\n",
    "'Engineer', 'Postman'],\n",
    "'Date Of Join': ['2020-08-19', '2020-10-26', '2019-06-07', '2017-02-30',\n",
    "'2018-12-24'],\n",
    "'Age': [22, 21, 23, 26, 34]})\n",
    "print(employees)"
   ]
  },
  {
   "cell_type": "code",
   "execution_count": 73,
   "metadata": {},
   "outputs": [
    {
     "name": "stdout",
     "output_type": "stream",
     "text": [
      "      Name Date Of Join  Age\n",
      "0    Kiran   2020-08-19   22\n",
      "1   Tanuja   2020-10-26   21\n",
      "2    Mohan   2019-06-07   23\n",
      "3   Barsha   2017-02-30   26\n",
      "4  Hemanta   2018-12-24   34\n"
     ]
    }
   ],
   "source": [
    "df = employees[['Name', 'Date Of Join', 'Age']]\n",
    "print(df)"
   ]
  },
  {
   "cell_type": "markdown",
   "metadata": {},
   "source": [
    "# Convert Dictionary into DataFrame"
   ]
  },
  {
   "cell_type": "code",
   "execution_count": 74,
   "metadata": {},
   "outputs": [
    {
     "name": "stdout",
     "output_type": "stream",
     "text": [
      "  EmpCode     Name  Occupation Date Of Join  Age\n",
      "0  Emp110    Kiran  Programmer   2020-08-19   22\n",
      "1  Emp111   Tanuja  Journalist   2020-10-26   21\n",
      "2  Emp112    Mohan    Mechanic   2019-06-07   23\n",
      "3  Emp113   Barsha    Engineer   2017-02-30   26\n",
      "4  Emp114  Hemanta     Postman   2018-12-24   34\n"
     ]
    }
   ],
   "source": [
    "import pandas as pd\n",
    "employees = pd.DataFrame({\n",
    "'EmpCode': ['Emp110', 'Emp111', 'Emp112', 'Emp113', 'Emp114'],\n",
    "'Name': ['Kiran', 'Tanuja', 'Mohan', 'Barsha', 'Hemanta'],\n",
    "'Occupation': ['Programmer', 'Journalist', 'Mechanic',\n",
    "'Engineer', 'Postman'],\n",
    "'Date Of Join': ['2020-08-19', '2020-10-26', '2019-06-07', '2017-02-30',\n",
    "'2018-12-24'],\n",
    "'Age': [22, 21, 23, 26, 34]})\n",
    "print(employees)"
   ]
  },
  {
   "cell_type": "code",
   "execution_count": 75,
   "metadata": {},
   "outputs": [
    {
     "name": "stdout",
     "output_type": "stream",
     "text": [
      "  EmpCode     Name  Occupation Date Of Join  Age\n",
      "0  Emp110    Kiran  Programmer   2020-08-19   22\n",
      "1  Emp111   Tanuja  Journalist   2020-10-26   21\n",
      "2  Emp112    Mohan    Mechanic   2019-06-07   23\n",
      "3  Emp113   Barsha    Engineer   2017-02-30   26\n",
      "4  Emp114  Hemanta     Postman   2018-12-24   34\n"
     ]
    }
   ],
   "source": [
    "dataframe = pd.DataFrame(employees)\n",
    "print(dataframe)"
   ]
  },
  {
   "cell_type": "markdown",
   "metadata": {},
   "source": [
    "# Check whether a pandas DataFrame is empty"
   ]
  },
  {
   "cell_type": "code",
   "execution_count": 88,
   "metadata": {},
   "outputs": [
    {
     "name": "stdout",
     "output_type": "stream",
     "text": [
      "False\n"
     ]
    }
   ],
   "source": [
    "# check if there is any element \n",
    "# in the given dataframe or not \n",
    "result = df.empty \n",
    "  \n",
    "# Print the result \n",
    "print(result) "
   ]
  },
  {
   "cell_type": "markdown",
   "metadata": {},
   "source": [
    "# Create an empty DataFrame with Date Index"
   ]
  },
  {
   "cell_type": "code",
   "execution_count": 91,
   "metadata": {},
   "outputs": [
    {
     "name": "stdout",
     "output_type": "stream",
     "text": [
      "            A  B  C\n",
      "2021-01-04  0  0  0\n",
      "2021-01-05  0  0  0\n",
      "2021-01-06  0  0  0\n",
      "2021-01-07  0  0  0\n",
      "2021-01-08  0  0  0\n",
      "2021-01-09  0  0  0\n",
      "2021-01-10  0  0  0\n",
      "2021-01-11  0  0  0\n",
      "2021-01-12  0  0  0\n",
      "2021-01-13  0  0  0\n"
     ]
    }
   ],
   "source": [
    "import datetime\n",
    "import pandas as pd\n",
    "todays_date = datetime.datetime.now().date()\n",
    "index = pd.date_range(todays_date, periods=10, freq='D')\n",
    "columns = ['A', 'B', 'C',]\n",
    "df = pd.DataFrame(index=index, columns=columns)\n",
    "df = df.fillna(0)\n",
    "print(df)"
   ]
  },
  {
   "cell_type": "markdown",
   "metadata": {},
   "source": [
    "# Check the datatype of DataFrame Columns"
   ]
  },
  {
   "cell_type": "code",
   "execution_count": 92,
   "metadata": {},
   "outputs": [
    {
     "name": "stdout",
     "output_type": "stream",
     "text": [
      "        Age    Color     Food  Height  Score State\n",
      "Kiran    22      Red    Apple      60    9.8    OD\n",
      "Mohan    21     Blue   Carrot      50    9.4    TN\n",
      "Akash    28    White    Mango     200    8.0    KL\n",
      "Devil    32   Yellow    Guava     180    7.4    BH\n",
      "Kirti    35    Green   Butter     125    2.4    GL\n",
      "Gopi     42    Black  Chicken     135    5.9    NL\n",
      "Deepak   29  Magenta     Fish     214    6.2    MH\n"
     ]
    }
   ],
   "source": [
    "import pandas as pd\n",
    "df = pd.DataFrame({'Age': [22, 21, 28, 32, 35, 42, 29],\n",
    "'Color': ['Red', 'Blue', 'White', 'Yellow', 'Green', 'Black',\n",
    "'Magenta'],\n",
    "'Food': ['Apple', 'Carrot', 'Mango', 'Guava', 'Butter',\n",
    "'Chicken', 'Fish'],\n",
    "'Height': [60, 50, 200, 180, 125, 135, 214],\n",
    "'Score': [9.8, 9.4, 8.0, 7.4, 2.4, 5.9, 6.2],\n",
    "'State': ['OD', 'TN', 'KL', 'BH', 'GL', 'NL', 'MH']\n",
    "},\n",
    "index=['Kiran', 'Mohan', 'Akash', 'Devil', 'Kirti',\n",
    "'Gopi', 'Deepak'])\n",
    "print(df)\n"
   ]
  },
  {
   "cell_type": "code",
   "execution_count": 93,
   "metadata": {},
   "outputs": [
    {
     "data": {
      "text/plain": [
       "Age         int64\n",
       "Color      object\n",
       "Food       object\n",
       "Height      int64\n",
       "Score     float64\n",
       "State      object\n",
       "dtype: object"
      ]
     },
     "execution_count": 93,
     "metadata": {},
     "output_type": "execute_result"
    }
   ],
   "source": [
    "df.dtypes"
   ]
  },
  {
   "cell_type": "markdown",
   "metadata": {},
   "source": [
    "# Change data type of a specific column of a pandas DataFrame"
   ]
  },
  {
   "cell_type": "code",
   "execution_count": 94,
   "metadata": {},
   "outputs": [
    {
     "name": "stdout",
     "output_type": "stream",
     "text": [
      "        Age    Color     Food  Height  Score State\n",
      "Kiran    22      Red    Apple      60    9.8    OD\n",
      "Mohan    21     Blue   Carrot      50    9.4    TN\n",
      "Akash    28    White    Mango     200    8.0    KL\n",
      "Devil    32   Yellow    Guava     180    7.4    BH\n",
      "Kirti    35    Green   Butter     125    2.4    GL\n",
      "Gopi     42    Black  Chicken     135    5.9    NL\n",
      "Deepak   29  Magenta     Fish     214    6.2    MH\n"
     ]
    },
    {
     "data": {
      "text/plain": [
       "Age         int64\n",
       "Color      object\n",
       "Food       object\n",
       "Height      int64\n",
       "Score     float64\n",
       "State      object\n",
       "dtype: object"
      ]
     },
     "execution_count": 94,
     "metadata": {},
     "output_type": "execute_result"
    }
   ],
   "source": [
    "print(df)\n",
    "df.dtypes"
   ]
  },
  {
   "cell_type": "code",
   "execution_count": 95,
   "metadata": {},
   "outputs": [
    {
     "name": "stdout",
     "output_type": "stream",
     "text": [
      "Age        object\n",
      "Color      object\n",
      "Food       object\n",
      "Height      int64\n",
      "Score     float64\n",
      "State      object\n",
      "dtype: object\n"
     ]
    }
   ],
   "source": [
    "df['Age'] = df['Age'].astype(str)\n",
    "print(df.dtypes)"
   ]
  },
  {
   "cell_type": "markdown",
   "metadata": {},
   "source": [
    "# Appending two DataFrame objects"
   ]
  },
  {
   "cell_type": "code",
   "execution_count": 96,
   "metadata": {},
   "outputs": [
    {
     "name": "stdout",
     "output_type": "stream",
     "text": [
      "       Age  Height  Score State\n",
      "Kiran   22      60    9.8    OD\n",
      "Mohan   21      50    9.4    TN\n",
      "Akash   28     200    8.0    KL\n",
      "Devil   32     180    7.4    BH\n",
      "Kirti   35     125    2.4    GL\n"
     ]
    }
   ],
   "source": [
    "import pandas as pd\n",
    "df1 = pd.DataFrame({'Age': [22, 21, 28, 32, 35], 'Height': [60, 50, 200, 180, 125],\n",
    "'Score': [9.8, 9.4, 8.0, 7.4, 2.4], 'State': ['OD', 'TN', 'KL', 'BH', 'GL']},\n",
    "index=['Kiran', 'Mohan', 'Akash', 'Devil', 'Kirti'])\n",
    "print(df1)"
   ]
  },
  {
   "cell_type": "code",
   "execution_count": 97,
   "metadata": {},
   "outputs": [
    {
     "name": "stdout",
     "output_type": "stream",
     "text": [
      "        Age    Color     Food  Score State\n",
      "Devil    32   Yellow    Guava    7.4    BH\n",
      "Kirti    35    Green   Butter    2.4    GL\n",
      "Gopi     42    Black  Chicken    5.9    NL\n",
      "Deepak   29  Magenta     Fish    6.2    MH\n"
     ]
    }
   ],
   "source": [
    "df2 = pd.DataFrame({'Age': [32, 35, 42, 29], 'Color': ['Yellow', 'Green', 'Black',\n",
    "'Magenta'],\n",
    "'Food': ['Guava', 'Butter',\n",
    "'Chicken', 'Fish'],\n",
    "'Score': [7.4, 2.4, 5.9, 6.2], 'State': ['BH', 'GL', 'NL', 'MH']},\n",
    "index=['Devil', 'Kirti',\n",
    "'Gopi', 'Deepak'])\n",
    "print(df2)"
   ]
  },
  {
   "cell_type": "code",
   "execution_count": 98,
   "metadata": {},
   "outputs": [
    {
     "name": "stdout",
     "output_type": "stream",
     "text": [
      "        Age    Color     Food  Height  Score State\n",
      "Kiran    22      NaN      NaN    60.0    9.8    OD\n",
      "Mohan    21      NaN      NaN    50.0    9.4    TN\n",
      "Akash    28      NaN      NaN   200.0    8.0    KL\n",
      "Devil    32      NaN      NaN   180.0    7.4    BH\n",
      "Kirti    35      NaN      NaN   125.0    2.4    GL\n",
      "Devil    32   Yellow    Guava     NaN    7.4    BH\n",
      "Kirti    35    Green   Butter     NaN    2.4    GL\n",
      "Gopi     42    Black  Chicken     NaN    5.9    NL\n",
      "Deepak   29  Magenta     Fish     NaN    6.2    MH\n"
     ]
    }
   ],
   "source": [
    "df3 = df1.append(df2, sort=True)\n",
    "print(df3)"
   ]
  },
  {
   "cell_type": "markdown",
   "metadata": {},
   "source": [
    "# How to add an extra row at end in a pandas DataFrame"
   ]
  },
  {
   "cell_type": "code",
   "execution_count": 99,
   "metadata": {},
   "outputs": [
    {
     "name": "stdout",
     "output_type": "stream",
     "text": [
      "  EmpCode     Name  Occupation Date Of Join  Age\n",
      "0  Emp110    Kiran  Programmer   2020-08-19   22\n",
      "1  Emp111   Tanuja  Journalist   2020-10-26   21\n",
      "2  Emp112    Mohan    Mechanic   2019-06-07   23\n",
      "3  Emp113   Barsha    Engineer   2017-02-30   26\n",
      "4  Emp114  Hemanta     Postman   2018-12-24   34\n"
     ]
    }
   ],
   "source": [
    "import pandas as pd\n",
    "employees = pd.DataFrame({\n",
    "'EmpCode': ['Emp110', 'Emp111', 'Emp112', 'Emp113', 'Emp114'],\n",
    "'Name': ['Kiran', 'Tanuja', 'Mohan', 'Barsha', 'Hemanta'],\n",
    "'Occupation': ['Programmer', 'Journalist', 'Mechanic',\n",
    "'Engineer', 'Postman'],\n",
    "'Date Of Join': ['2020-08-19', '2020-10-26', '2019-06-07', '2017-02-30',\n",
    "'2018-12-24'],\n",
    "'Age': [22, 21, 23, 26, 34]})\n",
    "print(employees)"
   ]
  },
  {
   "cell_type": "code",
   "execution_count": 103,
   "metadata": {},
   "outputs": [
    {
     "name": "stdout",
     "output_type": "stream",
     "text": [
      "  EmpCode     Name  Occupation Date Of Join Age\n",
      "0  Emp110    Kiran  Programmer   2020-08-19  22\n",
      "1  Emp111   Tanuja  Journalist   2020-10-26  21\n",
      "2  Emp112    Mohan    Mechanic   2019-06-07  23\n",
      "3  Emp113   Barsha    Engineer   2017-02-30  26\n",
      "4  Emp114  Hemanta     Postman   2018-12-24  34\n",
      "5  Emp114  Hemanta     Postman   2018-12-24  34\n",
      "6  Emp115    Biswo      Doctor   2019-07-20  31\n"
     ]
    }
   ],
   "source": [
    "employees.loc[len(employees)] = ['Emp115', 'Biswo', 'Doctor', '2019-07-20','31']\n",
    "print(employees)"
   ]
  },
  {
   "cell_type": "markdown",
   "metadata": {},
   "source": [
    "# Add row with specific index name"
   ]
  },
  {
   "cell_type": "code",
   "execution_count": 111,
   "metadata": {},
   "outputs": [
    {
     "name": "stdout",
     "output_type": "stream",
     "text": [
      "           Name  Occupation Date Of Join  Age\n",
      "Emp001    Kiran  Programmer   2020-08-19   22\n",
      "Emp002   Tanuja  Journalist   2020-10-26   21\n",
      "Emp003    Mohan    Mechanic   2019-06-07   23\n",
      "Emp004   Barsha    Engineer   2017-02-30   26\n",
      "Emp005  Hemanta     Postman   2018-12-24   34\n"
     ]
    }
   ],
   "source": [
    "import pandas as pd\n",
    "employees = pd.DataFrame({\n",
    "'EmpCode': ['Emp110', 'Emp111', 'Emp112', 'Emp113', 'Emp114'],\n",
    "'Name': ['Kiran', 'Tanuja', 'Mohan', 'Barsha', 'Hemanta'],\n",
    "'Occupation': ['Programmer', 'Journalist', 'Mechanic',\n",
    "'Engineer', 'Postman'],\n",
    "'Date Of Join': ['2020-08-19', '2020-10-26', '2019-06-07', '2017-02-30',\n",
    "'2018-12-24'],\n",
    "'Age': [22, 21, 23, 26, 34]},\n",
    "index=['Emp001', 'Emp002','Emp003', 'Emp004', 'Emp005'],\n",
    "columns=['Name', 'Occupation', 'Date Of Join', 'Age'])\n",
    "print(employees)"
   ]
  },
  {
   "cell_type": "code",
   "execution_count": 112,
   "metadata": {},
   "outputs": [
    {
     "name": "stdout",
     "output_type": "stream",
     "text": [
      "           Name  Occupation Date Of Join  Age\n",
      "Emp001    Kiran  Programmer   2020-08-19   22\n",
      "Emp002   Tanuja  Journalist   2020-10-26   21\n",
      "Emp003    Amiya     Teacher   2020-01-31   26\n",
      "Emp004   Barsha    Engineer   2017-02-30   26\n",
      "Emp005  Hemanta     Postman   2018-12-24   34\n"
     ]
    }
   ],
   "source": [
    "employees.loc['Emp003'] = ['Amiya', 'Teacher', '2020-01-31', 26]\n",
    "print(employees)"
   ]
  },
  {
   "cell_type": "markdown",
   "metadata": {},
   "source": [
    "# Example of append, concat and combine_first"
   ]
  },
  {
   "cell_type": "code",
   "execution_count": 113,
   "metadata": {},
   "outputs": [],
   "source": [
    "import pandas as pd\n",
    "a = {'A': 20, 'B': 30}\n",
    "b = {'B': 50, 'C': 60, 'D': 70}\n",
    "df1 = pd.DataFrame(a, index=[0])\n",
    "df2 = pd.DataFrame(b, index=[1])"
   ]
  },
  {
   "cell_type": "markdown",
   "metadata": {},
   "source": [
    "# Append"
   ]
  },
  {
   "cell_type": "code",
   "execution_count": 114,
   "metadata": {},
   "outputs": [
    {
     "name": "stdout",
     "output_type": "stream",
     "text": [
      "      A   B     C     D\n",
      "0  20.0  30   0.0   0.0\n",
      "1   0.0  50  60.0  70.0\n"
     ]
    }
   ],
   "source": [
    "d1 = pd.DataFrame()\n",
    "d1 = d1.append(df1)\n",
    "d1 = d1.append(df2).fillna(0)\n",
    "print(d1)"
   ]
  },
  {
   "cell_type": "markdown",
   "metadata": {},
   "source": [
    "# Concat"
   ]
  },
  {
   "cell_type": "code",
   "execution_count": 115,
   "metadata": {},
   "outputs": [
    {
     "name": "stdout",
     "output_type": "stream",
     "text": [
      "      A   B     C     D\n",
      "0  20.0  30   0.0   0.0\n",
      "1   0.0  50  60.0  70.0\n"
     ]
    }
   ],
   "source": [
    "d2 = pd.concat([df1, df2]).fillna(0)\n",
    "print(d2)"
   ]
  },
  {
   "cell_type": "markdown",
   "metadata": {},
   "source": [
    "# Combine First"
   ]
  },
  {
   "cell_type": "code",
   "execution_count": 117,
   "metadata": {},
   "outputs": [
    {
     "name": "stdout",
     "output_type": "stream",
     "text": [
      "      A     B     C     D\n",
      "0  20.0  30.0   0.0   0.0\n",
      "1   0.0  50.0  60.0  70.0\n"
     ]
    }
   ],
   "source": [
    "d3 = pd.DataFrame()\n",
    "d3 = d3.combine_first(df1).combine_first(df2).fillna(0)\n",
    "print(d3)"
   ]
  },
  {
   "cell_type": "markdown",
   "metadata": {},
   "source": [
    "# Filter DataFrame rows containing specific string values with an AND operator"
   ]
  },
  {
   "cell_type": "code",
   "execution_count": 118,
   "metadata": {},
   "outputs": [
    {
     "name": "stdout",
     "output_type": "stream",
     "text": [
      "        DateOfBirth State\n",
      "Kiran    1970-10-21    OD\n",
      "Tanuja   1984-05-26    TN\n",
      "Mohan    1999-04-15    WB\n",
      "Barsha   1974-02-24    GL\n",
      "Hemanta  1982-06-20    MH\n",
      "Deepak   1989-07-17    NL\n",
      "Sneha    1990-08-19    ND\n"
     ]
    }
   ],
   "source": [
    "import pandas as pd\n",
    "df = pd.DataFrame({'DateOfBirth': ['1970-10-21', '1984-05-26', '1999-04-15',\n",
    "'1974-02-24', '1982-06-20', '1989-07-17',\n",
    "'1990-08-19'],\n",
    "'State': ['OD', 'TN', 'WB', 'GL', 'MH', 'NL', 'ND']\n",
    "},\n",
    "index=['Kiran', 'Tanuja', 'Mohan', 'Barsha', 'Hemanta',\n",
    "'Deepak', 'Sneha'])\n",
    "print(df)"
   ]
  },
  {
   "cell_type": "code",
   "execution_count": 126,
   "metadata": {},
   "outputs": [
    {
     "name": "stdout",
     "output_type": "stream",
     "text": [
      "      DateOfBirth State\n",
      "Kiran  1970-10-21    OD\n"
     ]
    }
   ],
   "source": [
    "df1 = df[df.index.str.contains('ran') & df['State'].str.contains(\"OD\")]\n",
    "print(df1)"
   ]
  },
  {
   "cell_type": "markdown",
   "metadata": {},
   "source": [
    "# Filter DataFrame rows using OR operator"
   ]
  },
  {
   "cell_type": "code",
   "execution_count": 129,
   "metadata": {},
   "outputs": [
    {
     "name": "stdout",
     "output_type": "stream",
     "text": [
      "       DateOfBirth State\n",
      "Kiran   1970-10-21    OD\n",
      "Tanuja  1984-05-26    TN\n"
     ]
    }
   ],
   "source": [
    "df2 = df[df.index.str.contains('ran') | df['State'].str.contains(\"TN\")]\n",
    "print(df2)"
   ]
  },
  {
   "cell_type": "markdown",
   "metadata": {},
   "source": [
    "# Get Unique row values"
   ]
  },
  {
   "cell_type": "code",
   "execution_count": 130,
   "metadata": {},
   "outputs": [
    {
     "name": "stdout",
     "output_type": "stream",
     "text": [
      "        State\n",
      "Kiran      OD\n",
      "Tanuja     TN\n",
      "Mohan      WB\n",
      "Barsha     GL\n",
      "Hemanta    MH\n",
      "Deepak     NL\n",
      "Sneha      ND\n"
     ]
    }
   ],
   "source": [
    "import pandas as pd\n",
    "df = pd.DataFrame({'State': ['OD', 'TN', 'WB', 'GL', 'MH', 'NL', 'ND']\n",
    "},\n",
    "index=['Kiran', 'Tanuja', 'Mohan', 'Barsha', 'Hemanta',\n",
    "'Deepak', 'Sneha'])\n",
    "print(df)"
   ]
  },
  {
   "cell_type": "code",
   "execution_count": 134,
   "metadata": {},
   "outputs": [
    {
     "name": "stdout",
     "output_type": "stream",
     "text": [
      "['OD' 'TN' 'WB' 'GL' 'MH' 'NL' 'ND']\n"
     ]
    }
   ],
   "source": [
    "print(df[\"State\"].unique())"
   ]
  },
  {
   "cell_type": "markdown",
   "metadata": {},
   "source": [
    "# Count Distinct Values"
   ]
  },
  {
   "cell_type": "code",
   "execution_count": 136,
   "metadata": {},
   "outputs": [
    {
     "name": "stdout",
     "output_type": "stream",
     "text": [
      "         Age  Height  Score State\n",
      "Kiran     31      73    9.8    OD\n",
      "Mohan     30      70    9.5    TN\n",
      "Devil     22     160    9.0    WB\n",
      "Deepak    33      79    8.4    MH\n",
      "Hemanta   42     150    6.0    NL\n",
      "Amiya     40      75    7.0    PN\n",
      "Biswo     27     135    3.0    RJ\n",
      "Abhijit   39      91    1.0    BH\n"
     ]
    }
   ],
   "source": [
    "import pandas as pd\n",
    "df = pd.DataFrame({'Age': [31, 30, 22, 33, 42, 40, 27, 39],\n",
    "'Height': [73, 70, 160, 79, 150, 75, 135, 91],\n",
    "'Score': [9.8, 9.5, 9.0, 8.4, 6, 7, 3, 1],\n",
    "'State': ['OD', 'TN', 'WB', 'MH', 'NL', 'PN', 'RJ', 'BH']},\n",
    "index=['Kiran', 'Mohan', 'Devil', 'Deepak', 'Hemanta', 'Amiya', 'Biswo', 'Abhijit'])\n",
    "print(df)"
   ]
  },
  {
   "cell_type": "code",
   "execution_count": 137,
   "metadata": {},
   "outputs": [
    {
     "name": "stdout",
     "output_type": "stream",
     "text": [
      "70     1\n",
      "91     1\n",
      "75     1\n",
      "73     1\n",
      "135    1\n",
      "150    1\n",
      "79     1\n",
      "160    1\n",
      "Name: Height, dtype: int64\n"
     ]
    }
   ],
   "source": [
    "print(df.Height.value_counts())"
   ]
  },
  {
   "cell_type": "markdown",
   "metadata": {},
   "source": [
    "# Remove duplicate rows"
   ]
  },
  {
   "cell_type": "code",
   "execution_count": 138,
   "metadata": {},
   "outputs": [
    {
     "name": "stdout",
     "output_type": "stream",
     "text": [
      "         Age  Height  Score State\n",
      "Kiran     31      73    9.8    OD\n",
      "Mohan     30      70    9.5    TN\n",
      "Devil     22     160    9.0    WB\n",
      "Deepak    33      79    8.4    MH\n",
      "Hemanta   42     150    6.0    NL\n",
      "Amiya     40      75    7.0    PN\n",
      "Biswo     27     135    3.0    RJ\n",
      "Abhijit   39      91    1.0    BH\n"
     ]
    }
   ],
   "source": [
    "import pandas as pd\n",
    "df = pd.DataFrame({'Age': [31, 30, 22, 33, 42, 40, 27, 39],\n",
    "'Height': [73, 70, 160, 79, 150, 75, 135, 91],\n",
    "'Score': [9.8, 9.5, 9.0, 8.4, 6, 7, 3, 1],\n",
    "'State': ['OD', 'TN', 'WB', 'MH', 'NL', 'PN', 'RJ', 'BH']},\n",
    "index=['Kiran', 'Mohan', 'Devil', 'Deepak', 'Hemanta', 'Amiya', 'Biswo', 'Abhijit'])\n",
    "print(df)"
   ]
  },
  {
   "cell_type": "code",
   "execution_count": 139,
   "metadata": {},
   "outputs": [
    {
     "name": "stdout",
     "output_type": "stream",
     "text": [
      "         Age  Height  Score State\n",
      "index                            \n",
      "Kiran     31      73    9.8    OD\n",
      "Mohan     30      70    9.5    TN\n",
      "Devil     22     160    9.0    WB\n",
      "Deepak    33      79    8.4    MH\n",
      "Hemanta   42     150    6.0    NL\n",
      "Amiya     40      75    7.0    PN\n",
      "Biswo     27     135    3.0    RJ\n",
      "Abhijit   39      91    1.0    BH\n"
     ]
    }
   ],
   "source": [
    "df1 = df.reset_index().drop_duplicates(subset='index',\n",
    "keep='first').set_index('index')\n",
    "print(df1)"
   ]
  },
  {
   "cell_type": "markdown",
   "metadata": {},
   "source": [
    "# Example of isnull() and notnull()"
   ]
  },
  {
   "cell_type": "code",
   "execution_count": 140,
   "metadata": {},
   "outputs": [
    {
     "name": "stdout",
     "output_type": "stream",
     "text": [
      "         Apple  Papaya  Guava  Carrot\n",
      "BasketA     40    50.0   60.0    70.0\n",
      "BasketB     87    42.0   63.0    30.0\n",
      "BasketC      4     NaN    NaN     NaN\n"
     ]
    }
   ],
   "source": [
    "import pandas as pd\n",
    "df = pd.DataFrame([[40, 50, 60, 70], [87, 42, 63, 30], [4,]],\n",
    "columns=['Apple', 'Papaya', 'Guava', 'Carrot'],\n",
    "index=['BasketA', 'BasketB', 'BasketC'])\n",
    "print(df)"
   ]
  },
  {
   "cell_type": "code",
   "execution_count": 141,
   "metadata": {},
   "outputs": [
    {
     "data": {
      "text/html": [
       "<div>\n",
       "<style scoped>\n",
       "    .dataframe tbody tr th:only-of-type {\n",
       "        vertical-align: middle;\n",
       "    }\n",
       "\n",
       "    .dataframe tbody tr th {\n",
       "        vertical-align: top;\n",
       "    }\n",
       "\n",
       "    .dataframe thead th {\n",
       "        text-align: right;\n",
       "    }\n",
       "</style>\n",
       "<table border=\"1\" class=\"dataframe\">\n",
       "  <thead>\n",
       "    <tr style=\"text-align: right;\">\n",
       "      <th></th>\n",
       "      <th>Apple</th>\n",
       "      <th>Papaya</th>\n",
       "      <th>Guava</th>\n",
       "      <th>Carrot</th>\n",
       "    </tr>\n",
       "  </thead>\n",
       "  <tbody>\n",
       "    <tr>\n",
       "      <th>BasketA</th>\n",
       "      <td>False</td>\n",
       "      <td>False</td>\n",
       "      <td>False</td>\n",
       "      <td>False</td>\n",
       "    </tr>\n",
       "    <tr>\n",
       "      <th>BasketB</th>\n",
       "      <td>False</td>\n",
       "      <td>False</td>\n",
       "      <td>False</td>\n",
       "      <td>False</td>\n",
       "    </tr>\n",
       "    <tr>\n",
       "      <th>BasketC</th>\n",
       "      <td>False</td>\n",
       "      <td>True</td>\n",
       "      <td>True</td>\n",
       "      <td>True</td>\n",
       "    </tr>\n",
       "  </tbody>\n",
       "</table>\n",
       "</div>"
      ],
      "text/plain": [
       "         Apple  Papaya  Guava  Carrot\n",
       "BasketA  False   False  False   False\n",
       "BasketB  False   False  False   False\n",
       "BasketC  False    True   True    True"
      ]
     },
     "execution_count": 141,
     "metadata": {},
     "output_type": "execute_result"
    }
   ],
   "source": [
    "df.isnull()"
   ]
  },
  {
   "cell_type": "code",
   "execution_count": 142,
   "metadata": {},
   "outputs": [
    {
     "data": {
      "text/html": [
       "<div>\n",
       "<style scoped>\n",
       "    .dataframe tbody tr th:only-of-type {\n",
       "        vertical-align: middle;\n",
       "    }\n",
       "\n",
       "    .dataframe tbody tr th {\n",
       "        vertical-align: top;\n",
       "    }\n",
       "\n",
       "    .dataframe thead th {\n",
       "        text-align: right;\n",
       "    }\n",
       "</style>\n",
       "<table border=\"1\" class=\"dataframe\">\n",
       "  <thead>\n",
       "    <tr style=\"text-align: right;\">\n",
       "      <th></th>\n",
       "      <th>Apple</th>\n",
       "      <th>Papaya</th>\n",
       "      <th>Guava</th>\n",
       "      <th>Carrot</th>\n",
       "    </tr>\n",
       "  </thead>\n",
       "  <tbody>\n",
       "    <tr>\n",
       "      <th>BasketA</th>\n",
       "      <td>True</td>\n",
       "      <td>True</td>\n",
       "      <td>True</td>\n",
       "      <td>True</td>\n",
       "    </tr>\n",
       "    <tr>\n",
       "      <th>BasketB</th>\n",
       "      <td>True</td>\n",
       "      <td>True</td>\n",
       "      <td>True</td>\n",
       "      <td>True</td>\n",
       "    </tr>\n",
       "    <tr>\n",
       "      <th>BasketC</th>\n",
       "      <td>True</td>\n",
       "      <td>False</td>\n",
       "      <td>False</td>\n",
       "      <td>False</td>\n",
       "    </tr>\n",
       "  </tbody>\n",
       "</table>\n",
       "</div>"
      ],
      "text/plain": [
       "         Apple  Papaya  Guava  Carrot\n",
       "BasketA   True    True   True    True\n",
       "BasketB   True    True   True    True\n",
       "BasketC   True   False  False   False"
      ]
     },
     "execution_count": 142,
     "metadata": {},
     "output_type": "execute_result"
    }
   ],
   "source": [
    "df.notnull()"
   ]
  },
  {
   "cell_type": "markdown",
   "metadata": {},
   "source": [
    "# Droping rows with missing data- dropna()"
   ]
  },
  {
   "cell_type": "code",
   "execution_count": 143,
   "metadata": {},
   "outputs": [
    {
     "name": "stdout",
     "output_type": "stream",
     "text": [
      "         Apple  Papaya  Guava  Carrot\n",
      "BasketA     40    50.0   60.0    70.0\n",
      "BasketB     87    42.0   63.0    30.0\n",
      "BasketC      4     NaN    NaN     NaN\n"
     ]
    }
   ],
   "source": [
    "import pandas as pd\n",
    "df = pd.DataFrame([[40, 50, 60, 70], [87, 42, 63, 30], [4,]],\n",
    "columns=['Apple', 'Papaya', 'Guava', 'Carrot'],\n",
    "index=['BasketA', 'BasketB', 'BasketC'])\n",
    "print(df)"
   ]
  },
  {
   "cell_type": "code",
   "execution_count": 144,
   "metadata": {},
   "outputs": [
    {
     "data": {
      "text/html": [
       "<div>\n",
       "<style scoped>\n",
       "    .dataframe tbody tr th:only-of-type {\n",
       "        vertical-align: middle;\n",
       "    }\n",
       "\n",
       "    .dataframe tbody tr th {\n",
       "        vertical-align: top;\n",
       "    }\n",
       "\n",
       "    .dataframe thead th {\n",
       "        text-align: right;\n",
       "    }\n",
       "</style>\n",
       "<table border=\"1\" class=\"dataframe\">\n",
       "  <thead>\n",
       "    <tr style=\"text-align: right;\">\n",
       "      <th></th>\n",
       "      <th>Apple</th>\n",
       "      <th>Papaya</th>\n",
       "      <th>Guava</th>\n",
       "      <th>Carrot</th>\n",
       "    </tr>\n",
       "  </thead>\n",
       "  <tbody>\n",
       "    <tr>\n",
       "      <th>BasketA</th>\n",
       "      <td>40</td>\n",
       "      <td>50.0</td>\n",
       "      <td>60.0</td>\n",
       "      <td>70.0</td>\n",
       "    </tr>\n",
       "    <tr>\n",
       "      <th>BasketB</th>\n",
       "      <td>87</td>\n",
       "      <td>42.0</td>\n",
       "      <td>63.0</td>\n",
       "      <td>30.0</td>\n",
       "    </tr>\n",
       "  </tbody>\n",
       "</table>\n",
       "</div>"
      ],
      "text/plain": [
       "         Apple  Papaya  Guava  Carrot\n",
       "BasketA     40    50.0   60.0    70.0\n",
       "BasketB     87    42.0   63.0    30.0"
      ]
     },
     "execution_count": 144,
     "metadata": {},
     "output_type": "execute_result"
    }
   ],
   "source": [
    "df.dropna()"
   ]
  },
  {
   "cell_type": "markdown",
   "metadata": {},
   "source": [
    "# Drop columns with missing data"
   ]
  },
  {
   "cell_type": "code",
   "execution_count": 145,
   "metadata": {},
   "outputs": [
    {
     "name": "stdout",
     "output_type": "stream",
     "text": [
      "         Apple  Papaya  Guava  Carrot\n",
      "BasketA     40    50.0   60.0    70.0\n",
      "BasketB     87    42.0   63.0    30.0\n",
      "BasketC      4     NaN    NaN     NaN\n"
     ]
    }
   ],
   "source": [
    "import pandas as pd\n",
    "df = pd.DataFrame([[40, 50, 60, 70], [87, 42, 63, 30], [4,]],\n",
    "columns=['Apple', 'Papaya', 'Guava', 'Carrot'],\n",
    "index=['BasketA', 'BasketB', 'BasketC'])\n",
    "print(df)"
   ]
  },
  {
   "cell_type": "code",
   "execution_count": 148,
   "metadata": {},
   "outputs": [
    {
     "data": {
      "text/html": [
       "<div>\n",
       "<style scoped>\n",
       "    .dataframe tbody tr th:only-of-type {\n",
       "        vertical-align: middle;\n",
       "    }\n",
       "\n",
       "    .dataframe tbody tr th {\n",
       "        vertical-align: top;\n",
       "    }\n",
       "\n",
       "    .dataframe thead th {\n",
       "        text-align: right;\n",
       "    }\n",
       "</style>\n",
       "<table border=\"1\" class=\"dataframe\">\n",
       "  <thead>\n",
       "    <tr style=\"text-align: right;\">\n",
       "      <th></th>\n",
       "      <th>Apple</th>\n",
       "    </tr>\n",
       "  </thead>\n",
       "  <tbody>\n",
       "    <tr>\n",
       "      <th>BasketA</th>\n",
       "      <td>40</td>\n",
       "    </tr>\n",
       "    <tr>\n",
       "      <th>BasketB</th>\n",
       "      <td>87</td>\n",
       "    </tr>\n",
       "    <tr>\n",
       "      <th>BasketC</th>\n",
       "      <td>4</td>\n",
       "    </tr>\n",
       "  </tbody>\n",
       "</table>\n",
       "</div>"
      ],
      "text/plain": [
       "         Apple\n",
       "BasketA     40\n",
       "BasketB     87\n",
       "BasketC      4"
      ]
     },
     "execution_count": 148,
     "metadata": {},
     "output_type": "execute_result"
    }
   ],
   "source": [
    "df.dropna(1)"
   ]
  },
  {
   "cell_type": "markdown",
   "metadata": {},
   "source": [
    "# Sort Index Values"
   ]
  },
  {
   "cell_type": "code",
   "execution_count": 149,
   "metadata": {},
   "outputs": [
    {
     "data": {
      "text/html": [
       "<div>\n",
       "<style scoped>\n",
       "    .dataframe tbody tr th:only-of-type {\n",
       "        vertical-align: middle;\n",
       "    }\n",
       "\n",
       "    .dataframe tbody tr th {\n",
       "        vertical-align: top;\n",
       "    }\n",
       "\n",
       "    .dataframe thead th {\n",
       "        text-align: right;\n",
       "    }\n",
       "</style>\n",
       "<table border=\"1\" class=\"dataframe\">\n",
       "  <thead>\n",
       "    <tr style=\"text-align: right;\">\n",
       "      <th></th>\n",
       "      <th>DateOfBirth</th>\n",
       "      <th>State</th>\n",
       "    </tr>\n",
       "  </thead>\n",
       "  <tbody>\n",
       "    <tr>\n",
       "      <th>Kiran</th>\n",
       "      <td>1970-10-21</td>\n",
       "      <td>OD</td>\n",
       "    </tr>\n",
       "    <tr>\n",
       "      <th>Tanuja</th>\n",
       "      <td>1984-05-26</td>\n",
       "      <td>TN</td>\n",
       "    </tr>\n",
       "    <tr>\n",
       "      <th>Mohan</th>\n",
       "      <td>1999-04-15</td>\n",
       "      <td>WB</td>\n",
       "    </tr>\n",
       "    <tr>\n",
       "      <th>Barsha</th>\n",
       "      <td>1974-02-24</td>\n",
       "      <td>GL</td>\n",
       "    </tr>\n",
       "    <tr>\n",
       "      <th>Hemanta</th>\n",
       "      <td>1982-06-20</td>\n",
       "      <td>MH</td>\n",
       "    </tr>\n",
       "    <tr>\n",
       "      <th>Deepak</th>\n",
       "      <td>1989-07-17</td>\n",
       "      <td>NL</td>\n",
       "    </tr>\n",
       "    <tr>\n",
       "      <th>Sneha</th>\n",
       "      <td>1990-08-19</td>\n",
       "      <td>ND</td>\n",
       "    </tr>\n",
       "  </tbody>\n",
       "</table>\n",
       "</div>"
      ],
      "text/plain": [
       "        DateOfBirth State\n",
       "Kiran    1970-10-21    OD\n",
       "Tanuja   1984-05-26    TN\n",
       "Mohan    1999-04-15    WB\n",
       "Barsha   1974-02-24    GL\n",
       "Hemanta  1982-06-20    MH\n",
       "Deepak   1989-07-17    NL\n",
       "Sneha    1990-08-19    ND"
      ]
     },
     "execution_count": 149,
     "metadata": {},
     "output_type": "execute_result"
    }
   ],
   "source": [
    "import pandas as pd\n",
    "df = pd.DataFrame({'DateOfBirth': ['1970-10-21', '1984-05-26', '1999-04-15',\n",
    "'1974-02-24', '1982-06-20', '1989-07-17',\n",
    "'1990-08-19'],\n",
    "'State': ['OD', 'TN', 'WB', 'GL', 'MH', 'NL', 'ND']\n",
    "},\n",
    "index=['Kiran', 'Tanuja', 'Mohan', 'Barsha', 'Hemanta',\n",
    "'Deepak', 'Sneha'])\n",
    "df\n"
   ]
  },
  {
   "cell_type": "markdown",
   "metadata": {},
   "source": [
    "# ASCENDING"
   ]
  },
  {
   "cell_type": "code",
   "execution_count": 151,
   "metadata": {},
   "outputs": [
    {
     "data": {
      "text/html": [
       "<div>\n",
       "<style scoped>\n",
       "    .dataframe tbody tr th:only-of-type {\n",
       "        vertical-align: middle;\n",
       "    }\n",
       "\n",
       "    .dataframe tbody tr th {\n",
       "        vertical-align: top;\n",
       "    }\n",
       "\n",
       "    .dataframe thead th {\n",
       "        text-align: right;\n",
       "    }\n",
       "</style>\n",
       "<table border=\"1\" class=\"dataframe\">\n",
       "  <thead>\n",
       "    <tr style=\"text-align: right;\">\n",
       "      <th></th>\n",
       "      <th>DateOfBirth</th>\n",
       "      <th>State</th>\n",
       "    </tr>\n",
       "  </thead>\n",
       "  <tbody>\n",
       "    <tr>\n",
       "      <th>Barsha</th>\n",
       "      <td>1974-02-24</td>\n",
       "      <td>GL</td>\n",
       "    </tr>\n",
       "    <tr>\n",
       "      <th>Deepak</th>\n",
       "      <td>1989-07-17</td>\n",
       "      <td>NL</td>\n",
       "    </tr>\n",
       "    <tr>\n",
       "      <th>Hemanta</th>\n",
       "      <td>1982-06-20</td>\n",
       "      <td>MH</td>\n",
       "    </tr>\n",
       "    <tr>\n",
       "      <th>Kiran</th>\n",
       "      <td>1970-10-21</td>\n",
       "      <td>OD</td>\n",
       "    </tr>\n",
       "    <tr>\n",
       "      <th>Mohan</th>\n",
       "      <td>1999-04-15</td>\n",
       "      <td>WB</td>\n",
       "    </tr>\n",
       "    <tr>\n",
       "      <th>Sneha</th>\n",
       "      <td>1990-08-19</td>\n",
       "      <td>ND</td>\n",
       "    </tr>\n",
       "    <tr>\n",
       "      <th>Tanuja</th>\n",
       "      <td>1984-05-26</td>\n",
       "      <td>TN</td>\n",
       "    </tr>\n",
       "  </tbody>\n",
       "</table>\n",
       "</div>"
      ],
      "text/plain": [
       "        DateOfBirth State\n",
       "Barsha   1974-02-24    GL\n",
       "Deepak   1989-07-17    NL\n",
       "Hemanta  1982-06-20    MH\n",
       "Kiran    1970-10-21    OD\n",
       "Mohan    1999-04-15    WB\n",
       "Sneha    1990-08-19    ND\n",
       "Tanuja   1984-05-26    TN"
      ]
     },
     "execution_count": 151,
     "metadata": {},
     "output_type": "execute_result"
    }
   ],
   "source": [
    "df.sort_index(ascending=True)"
   ]
  },
  {
   "cell_type": "markdown",
   "metadata": {},
   "source": [
    "# DESCENDING"
   ]
  },
  {
   "cell_type": "code",
   "execution_count": 152,
   "metadata": {},
   "outputs": [
    {
     "data": {
      "text/html": [
       "<div>\n",
       "<style scoped>\n",
       "    .dataframe tbody tr th:only-of-type {\n",
       "        vertical-align: middle;\n",
       "    }\n",
       "\n",
       "    .dataframe tbody tr th {\n",
       "        vertical-align: top;\n",
       "    }\n",
       "\n",
       "    .dataframe thead th {\n",
       "        text-align: right;\n",
       "    }\n",
       "</style>\n",
       "<table border=\"1\" class=\"dataframe\">\n",
       "  <thead>\n",
       "    <tr style=\"text-align: right;\">\n",
       "      <th></th>\n",
       "      <th>DateOfBirth</th>\n",
       "      <th>State</th>\n",
       "    </tr>\n",
       "  </thead>\n",
       "  <tbody>\n",
       "    <tr>\n",
       "      <th>Tanuja</th>\n",
       "      <td>1984-05-26</td>\n",
       "      <td>TN</td>\n",
       "    </tr>\n",
       "    <tr>\n",
       "      <th>Sneha</th>\n",
       "      <td>1990-08-19</td>\n",
       "      <td>ND</td>\n",
       "    </tr>\n",
       "    <tr>\n",
       "      <th>Mohan</th>\n",
       "      <td>1999-04-15</td>\n",
       "      <td>WB</td>\n",
       "    </tr>\n",
       "    <tr>\n",
       "      <th>Kiran</th>\n",
       "      <td>1970-10-21</td>\n",
       "      <td>OD</td>\n",
       "    </tr>\n",
       "    <tr>\n",
       "      <th>Hemanta</th>\n",
       "      <td>1982-06-20</td>\n",
       "      <td>MH</td>\n",
       "    </tr>\n",
       "    <tr>\n",
       "      <th>Deepak</th>\n",
       "      <td>1989-07-17</td>\n",
       "      <td>NL</td>\n",
       "    </tr>\n",
       "    <tr>\n",
       "      <th>Barsha</th>\n",
       "      <td>1974-02-24</td>\n",
       "      <td>GL</td>\n",
       "    </tr>\n",
       "  </tbody>\n",
       "</table>\n",
       "</div>"
      ],
      "text/plain": [
       "        DateOfBirth State\n",
       "Tanuja   1984-05-26    TN\n",
       "Sneha    1990-08-19    ND\n",
       "Mohan    1999-04-15    WB\n",
       "Kiran    1970-10-21    OD\n",
       "Hemanta  1982-06-20    MH\n",
       "Deepak   1989-07-17    NL\n",
       "Barsha   1974-02-24    GL"
      ]
     },
     "execution_count": 152,
     "metadata": {},
     "output_type": "execute_result"
    }
   ],
   "source": [
    "df.sort_index(ascending=False)"
   ]
  },
  {
   "cell_type": "markdown",
   "metadata": {},
   "source": [
    "# Example of using rank()"
   ]
  },
  {
   "cell_type": "code",
   "execution_count": 153,
   "metadata": {},
   "outputs": [
    {
     "name": "stdout",
     "output_type": "stream",
     "text": [
      "         Apple  Papaya  Guava  Carrot\n",
      "BasketA     40    50.0   60.0    70.0\n",
      "BasketB     87    42.0   63.0    30.0\n",
      "BasketC      4     NaN    NaN     NaN\n"
     ]
    }
   ],
   "source": [
    "import pandas as pd\n",
    "df = pd.DataFrame([[40, 50, 60, 70], [87, 42, 63, 30], [4,]],\n",
    "columns=['Apple', 'Papaya', 'Guava', 'Carrot'],\n",
    "index=['BasketA', 'BasketB', 'BasketC'])\n",
    "print(df)"
   ]
  },
  {
   "cell_type": "code",
   "execution_count": 154,
   "metadata": {},
   "outputs": [
    {
     "data": {
      "text/html": [
       "<div>\n",
       "<style scoped>\n",
       "    .dataframe tbody tr th:only-of-type {\n",
       "        vertical-align: middle;\n",
       "    }\n",
       "\n",
       "    .dataframe tbody tr th {\n",
       "        vertical-align: top;\n",
       "    }\n",
       "\n",
       "    .dataframe thead th {\n",
       "        text-align: right;\n",
       "    }\n",
       "</style>\n",
       "<table border=\"1\" class=\"dataframe\">\n",
       "  <thead>\n",
       "    <tr style=\"text-align: right;\">\n",
       "      <th></th>\n",
       "      <th>Apple</th>\n",
       "      <th>Papaya</th>\n",
       "      <th>Guava</th>\n",
       "      <th>Carrot</th>\n",
       "    </tr>\n",
       "  </thead>\n",
       "  <tbody>\n",
       "    <tr>\n",
       "      <th>BasketA</th>\n",
       "      <td>2.0</td>\n",
       "      <td>2.0</td>\n",
       "      <td>1.0</td>\n",
       "      <td>2.0</td>\n",
       "    </tr>\n",
       "    <tr>\n",
       "      <th>BasketB</th>\n",
       "      <td>3.0</td>\n",
       "      <td>1.0</td>\n",
       "      <td>2.0</td>\n",
       "      <td>1.0</td>\n",
       "    </tr>\n",
       "    <tr>\n",
       "      <th>BasketC</th>\n",
       "      <td>1.0</td>\n",
       "      <td>NaN</td>\n",
       "      <td>NaN</td>\n",
       "      <td>NaN</td>\n",
       "    </tr>\n",
       "  </tbody>\n",
       "</table>\n",
       "</div>"
      ],
      "text/plain": [
       "         Apple  Papaya  Guava  Carrot\n",
       "BasketA    2.0     2.0    1.0     2.0\n",
       "BasketB    3.0     1.0    2.0     1.0\n",
       "BasketC    1.0     NaN    NaN     NaN"
      ]
     },
     "execution_count": 154,
     "metadata": {},
     "output_type": "execute_result"
    }
   ],
   "source": [
    "df.rank()"
   ]
  },
  {
   "cell_type": "markdown",
   "metadata": {},
   "source": [
    "# Importing Dataset"
   ]
  },
  {
   "cell_type": "markdown",
   "metadata": {},
   "source": [
    "# Importing EXCEL File"
   ]
  },
  {
   "cell_type": "code",
   "execution_count": 43,
   "metadata": {},
   "outputs": [
    {
     "data": {
      "text/html": [
       "<div>\n",
       "<style scoped>\n",
       "    .dataframe tbody tr th:only-of-type {\n",
       "        vertical-align: middle;\n",
       "    }\n",
       "\n",
       "    .dataframe tbody tr th {\n",
       "        vertical-align: top;\n",
       "    }\n",
       "\n",
       "    .dataframe thead th {\n",
       "        text-align: right;\n",
       "    }\n",
       "</style>\n",
       "<table border=\"1\" class=\"dataframe\">\n",
       "  <thead>\n",
       "    <tr style=\"text-align: right;\">\n",
       "      <th></th>\n",
       "      <th>Year</th>\n",
       "      <th>Foreign tourist arrivals in india(in million)</th>\n",
       "      <th>% change over previous year</th>\n",
       "      <th>Number of domestic tourists visits(in million)to all states</th>\n",
       "      <th>% change over previous year</th>\n",
       "      <th>Foreign exchange earnings(US $million)</th>\n",
       "      <th>% change over previous year.1</th>\n",
       "      <th>Foreign exchange earnings(in crores)</th>\n",
       "      <th>% change over previous year.2</th>\n",
       "      <th>No.of Indian Nationals Departures (in Millions)</th>\n",
       "    </tr>\n",
       "  </thead>\n",
       "  <tbody>\n",
       "    <tr>\n",
       "      <th>0</th>\n",
       "      <td>2000</td>\n",
       "      <td>2.65</td>\n",
       "      <td>6.7</td>\n",
       "      <td>220.11</td>\n",
       "      <td>15.4</td>\n",
       "      <td>3460</td>\n",
       "      <td>15.0</td>\n",
       "      <td>15626</td>\n",
       "      <td>20.7</td>\n",
       "      <td>3.53</td>\n",
       "    </tr>\n",
       "    <tr>\n",
       "      <th>1</th>\n",
       "      <td>2001</td>\n",
       "      <td>2.54</td>\n",
       "      <td>-4.2</td>\n",
       "      <td>236.47</td>\n",
       "      <td>7.4</td>\n",
       "      <td>3198</td>\n",
       "      <td>-7.6</td>\n",
       "      <td>15083</td>\n",
       "      <td>-3.5</td>\n",
       "      <td>4.56</td>\n",
       "    </tr>\n",
       "    <tr>\n",
       "      <th>2</th>\n",
       "      <td>2002</td>\n",
       "      <td>2.38</td>\n",
       "      <td>-6.0</td>\n",
       "      <td>269.60</td>\n",
       "      <td>14.0</td>\n",
       "      <td>3103</td>\n",
       "      <td>-3.0</td>\n",
       "      <td>15064</td>\n",
       "      <td>-0.1</td>\n",
       "      <td>4.94</td>\n",
       "    </tr>\n",
       "    <tr>\n",
       "      <th>3</th>\n",
       "      <td>2003</td>\n",
       "      <td>2.73</td>\n",
       "      <td>14.3</td>\n",
       "      <td>309.04</td>\n",
       "      <td>14.6</td>\n",
       "      <td>4463</td>\n",
       "      <td>43.8</td>\n",
       "      <td>20729</td>\n",
       "      <td>37.6</td>\n",
       "      <td>5.35</td>\n",
       "    </tr>\n",
       "    <tr>\n",
       "      <th>4</th>\n",
       "      <td>2004</td>\n",
       "      <td>3.46</td>\n",
       "      <td>26.8</td>\n",
       "      <td>366.27</td>\n",
       "      <td>18.5</td>\n",
       "      <td>6170</td>\n",
       "      <td>38.2</td>\n",
       "      <td>27944</td>\n",
       "      <td>34.8</td>\n",
       "      <td>6.21</td>\n",
       "    </tr>\n",
       "  </tbody>\n",
       "</table>\n",
       "</div>"
      ],
      "text/plain": [
       "   Year   Foreign tourist arrivals in india(in million)   \\\n",
       "0   2000                                            2.65   \n",
       "1   2001                                            2.54   \n",
       "2   2002                                            2.38   \n",
       "3   2003                                            2.73   \n",
       "4   2004                                            3.46   \n",
       "\n",
       "   % change over previous year   \\\n",
       "0                           6.7   \n",
       "1                          -4.2   \n",
       "2                          -6.0   \n",
       "3                          14.3   \n",
       "4                          26.8   \n",
       "\n",
       "   Number of domestic tourists visits(in million)to all states   \\\n",
       "0                                             220.11              \n",
       "1                                             236.47              \n",
       "2                                             269.60              \n",
       "3                                             309.04              \n",
       "4                                             366.27              \n",
       "\n",
       "   % change over previous year  Foreign exchange earnings(US $million)   \\\n",
       "0                         15.4                                     3460   \n",
       "1                          7.4                                     3198   \n",
       "2                         14.0                                     3103   \n",
       "3                         14.6                                     4463   \n",
       "4                         18.5                                     6170   \n",
       "\n",
       "   % change over previous year.1  Foreign exchange earnings(in crores)   \\\n",
       "0                           15.0                                  15626   \n",
       "1                           -7.6                                  15083   \n",
       "2                           -3.0                                  15064   \n",
       "3                           43.8                                  20729   \n",
       "4                           38.2                                  27944   \n",
       "\n",
       "   % change over previous year.2  \\\n",
       "0                           20.7   \n",
       "1                           -3.5   \n",
       "2                           -0.1   \n",
       "3                           37.6   \n",
       "4                           34.8   \n",
       "\n",
       "   No.of Indian Nationals Departures (in Millions)  \n",
       "0                                             3.53  \n",
       "1                                             4.56  \n",
       "2                                             4.94  \n",
       "3                                             5.35  \n",
       "4                                             6.21  "
      ]
     },
     "execution_count": 43,
     "metadata": {},
     "output_type": "execute_result"
    }
   ],
   "source": [
    "import pandas as pd\n",
    "df1 = pd.read_excel(\"Tourism in india dataset.xlsx\")\n",
    "df1.head()"
   ]
  },
  {
   "cell_type": "markdown",
   "metadata": {},
   "source": [
    "# Importing Excel File With Particular Sheet"
   ]
  },
  {
   "cell_type": "code",
   "execution_count": 42,
   "metadata": {},
   "outputs": [
    {
     "data": {
      "text/html": [
       "<div>\n",
       "<style scoped>\n",
       "    .dataframe tbody tr th:only-of-type {\n",
       "        vertical-align: middle;\n",
       "    }\n",
       "\n",
       "    .dataframe tbody tr th {\n",
       "        vertical-align: top;\n",
       "    }\n",
       "\n",
       "    .dataframe thead th {\n",
       "        text-align: right;\n",
       "    }\n",
       "</style>\n",
       "<table border=\"1\" class=\"dataframe\">\n",
       "  <thead>\n",
       "    <tr style=\"text-align: right;\">\n",
       "      <th></th>\n",
       "      <th>Year</th>\n",
       "      <th>Foreign tourist arrivals in india(in million)</th>\n",
       "      <th>% change over previous year</th>\n",
       "      <th>Number of domestic tourists visits(in million)to all states</th>\n",
       "      <th>% change over previous year</th>\n",
       "      <th>Foreign exchange earnings(US $million)</th>\n",
       "      <th>% change over previous year.1</th>\n",
       "      <th>Foreign exchange earnings(in crores)</th>\n",
       "      <th>% change over previous year.2</th>\n",
       "      <th>No.of Indian Nationals Departures (in Millions)</th>\n",
       "    </tr>\n",
       "  </thead>\n",
       "  <tbody>\n",
       "    <tr>\n",
       "      <th>0</th>\n",
       "      <td>2000</td>\n",
       "      <td>2.65</td>\n",
       "      <td>6.7</td>\n",
       "      <td>220.11</td>\n",
       "      <td>15.4</td>\n",
       "      <td>3460</td>\n",
       "      <td>15.0</td>\n",
       "      <td>15626</td>\n",
       "      <td>20.7</td>\n",
       "      <td>3.53</td>\n",
       "    </tr>\n",
       "    <tr>\n",
       "      <th>1</th>\n",
       "      <td>2001</td>\n",
       "      <td>2.54</td>\n",
       "      <td>-4.2</td>\n",
       "      <td>236.47</td>\n",
       "      <td>7.4</td>\n",
       "      <td>3198</td>\n",
       "      <td>-7.6</td>\n",
       "      <td>15083</td>\n",
       "      <td>-3.5</td>\n",
       "      <td>4.56</td>\n",
       "    </tr>\n",
       "    <tr>\n",
       "      <th>2</th>\n",
       "      <td>2002</td>\n",
       "      <td>2.38</td>\n",
       "      <td>-6.0</td>\n",
       "      <td>269.60</td>\n",
       "      <td>14.0</td>\n",
       "      <td>3103</td>\n",
       "      <td>-3.0</td>\n",
       "      <td>15064</td>\n",
       "      <td>-0.1</td>\n",
       "      <td>4.94</td>\n",
       "    </tr>\n",
       "    <tr>\n",
       "      <th>3</th>\n",
       "      <td>2003</td>\n",
       "      <td>2.73</td>\n",
       "      <td>14.3</td>\n",
       "      <td>309.04</td>\n",
       "      <td>14.6</td>\n",
       "      <td>4463</td>\n",
       "      <td>43.8</td>\n",
       "      <td>20729</td>\n",
       "      <td>37.6</td>\n",
       "      <td>5.35</td>\n",
       "    </tr>\n",
       "    <tr>\n",
       "      <th>4</th>\n",
       "      <td>2004</td>\n",
       "      <td>3.46</td>\n",
       "      <td>26.8</td>\n",
       "      <td>366.27</td>\n",
       "      <td>18.5</td>\n",
       "      <td>6170</td>\n",
       "      <td>38.2</td>\n",
       "      <td>27944</td>\n",
       "      <td>34.8</td>\n",
       "      <td>6.21</td>\n",
       "    </tr>\n",
       "  </tbody>\n",
       "</table>\n",
       "</div>"
      ],
      "text/plain": [
       "   Year   Foreign tourist arrivals in india(in million)   \\\n",
       "0   2000                                            2.65   \n",
       "1   2001                                            2.54   \n",
       "2   2002                                            2.38   \n",
       "3   2003                                            2.73   \n",
       "4   2004                                            3.46   \n",
       "\n",
       "   % change over previous year   \\\n",
       "0                           6.7   \n",
       "1                          -4.2   \n",
       "2                          -6.0   \n",
       "3                          14.3   \n",
       "4                          26.8   \n",
       "\n",
       "   Number of domestic tourists visits(in million)to all states   \\\n",
       "0                                             220.11              \n",
       "1                                             236.47              \n",
       "2                                             269.60              \n",
       "3                                             309.04              \n",
       "4                                             366.27              \n",
       "\n",
       "   % change over previous year  Foreign exchange earnings(US $million)   \\\n",
       "0                         15.4                                     3460   \n",
       "1                          7.4                                     3198   \n",
       "2                         14.0                                     3103   \n",
       "3                         14.6                                     4463   \n",
       "4                         18.5                                     6170   \n",
       "\n",
       "   % change over previous year.1  Foreign exchange earnings(in crores)   \\\n",
       "0                           15.0                                  15626   \n",
       "1                           -7.6                                  15083   \n",
       "2                           -3.0                                  15064   \n",
       "3                           43.8                                  20729   \n",
       "4                           38.2                                  27944   \n",
       "\n",
       "   % change over previous year.2  \\\n",
       "0                           20.7   \n",
       "1                           -3.5   \n",
       "2                           -0.1   \n",
       "3                           37.6   \n",
       "4                           34.8   \n",
       "\n",
       "   No.of Indian Nationals Departures (in Millions)  \n",
       "0                                             3.53  \n",
       "1                                             4.56  \n",
       "2                                             4.94  \n",
       "3                                             5.35  \n",
       "4                                             6.21  "
      ]
     },
     "execution_count": 42,
     "metadata": {},
     "output_type": "execute_result"
    }
   ],
   "source": [
    "df2 = pd.read_excel('Tourism in india dataset.xlsx',\n",
    "sheet_name='20 years data')\n",
    "df2.head()"
   ]
  },
  {
   "cell_type": "markdown",
   "metadata": {},
   "source": [
    "# Operations on Dataset"
   ]
  },
  {
   "cell_type": "code",
   "execution_count": 16,
   "metadata": {},
   "outputs": [
    {
     "data": {
      "text/html": [
       "<div>\n",
       "<style scoped>\n",
       "    .dataframe tbody tr th:only-of-type {\n",
       "        vertical-align: middle;\n",
       "    }\n",
       "\n",
       "    .dataframe tbody tr th {\n",
       "        vertical-align: top;\n",
       "    }\n",
       "\n",
       "    .dataframe thead th {\n",
       "        text-align: right;\n",
       "    }\n",
       "</style>\n",
       "<table border=\"1\" class=\"dataframe\">\n",
       "  <thead>\n",
       "    <tr style=\"text-align: right;\">\n",
       "      <th></th>\n",
       "      <th>Year</th>\n",
       "      <th>Foreign tourist arrivals in india(in million)</th>\n",
       "      <th>% change over previous year</th>\n",
       "      <th>Number of domestic tourists visits(in million)to all states</th>\n",
       "      <th>% change over previous year</th>\n",
       "      <th>Foreign exchange earnings(US $million)</th>\n",
       "      <th>% change over previous year.1</th>\n",
       "      <th>Foreign exchange earnings(in crores)</th>\n",
       "      <th>% change over previous year.2</th>\n",
       "      <th>No.of Indian Nationals Departures (in Millions)</th>\n",
       "    </tr>\n",
       "  </thead>\n",
       "  <tbody>\n",
       "    <tr>\n",
       "      <th>0</th>\n",
       "      <td>2000</td>\n",
       "      <td>2.65</td>\n",
       "      <td>6.7</td>\n",
       "      <td>220.11</td>\n",
       "      <td>15.4</td>\n",
       "      <td>3460</td>\n",
       "      <td>15.0</td>\n",
       "      <td>15626</td>\n",
       "      <td>20.7</td>\n",
       "      <td>3.53</td>\n",
       "    </tr>\n",
       "    <tr>\n",
       "      <th>1</th>\n",
       "      <td>2001</td>\n",
       "      <td>2.54</td>\n",
       "      <td>-4.2</td>\n",
       "      <td>236.47</td>\n",
       "      <td>7.4</td>\n",
       "      <td>3198</td>\n",
       "      <td>-7.6</td>\n",
       "      <td>15083</td>\n",
       "      <td>-3.5</td>\n",
       "      <td>4.56</td>\n",
       "    </tr>\n",
       "    <tr>\n",
       "      <th>2</th>\n",
       "      <td>2002</td>\n",
       "      <td>2.38</td>\n",
       "      <td>-6.0</td>\n",
       "      <td>269.60</td>\n",
       "      <td>14.0</td>\n",
       "      <td>3103</td>\n",
       "      <td>-3.0</td>\n",
       "      <td>15064</td>\n",
       "      <td>-0.1</td>\n",
       "      <td>4.94</td>\n",
       "    </tr>\n",
       "    <tr>\n",
       "      <th>3</th>\n",
       "      <td>2003</td>\n",
       "      <td>2.73</td>\n",
       "      <td>14.3</td>\n",
       "      <td>309.04</td>\n",
       "      <td>14.6</td>\n",
       "      <td>4463</td>\n",
       "      <td>43.8</td>\n",
       "      <td>20729</td>\n",
       "      <td>37.6</td>\n",
       "      <td>5.35</td>\n",
       "    </tr>\n",
       "    <tr>\n",
       "      <th>4</th>\n",
       "      <td>2004</td>\n",
       "      <td>3.46</td>\n",
       "      <td>26.8</td>\n",
       "      <td>366.27</td>\n",
       "      <td>18.5</td>\n",
       "      <td>6170</td>\n",
       "      <td>38.2</td>\n",
       "      <td>27944</td>\n",
       "      <td>34.8</td>\n",
       "      <td>6.21</td>\n",
       "    </tr>\n",
       "  </tbody>\n",
       "</table>\n",
       "</div>"
      ],
      "text/plain": [
       "   Year   Foreign tourist arrivals in india(in million)   \\\n",
       "0   2000                                            2.65   \n",
       "1   2001                                            2.54   \n",
       "2   2002                                            2.38   \n",
       "3   2003                                            2.73   \n",
       "4   2004                                            3.46   \n",
       "\n",
       "   % change over previous year   \\\n",
       "0                           6.7   \n",
       "1                          -4.2   \n",
       "2                          -6.0   \n",
       "3                          14.3   \n",
       "4                          26.8   \n",
       "\n",
       "   Number of domestic tourists visits(in million)to all states   \\\n",
       "0                                             220.11              \n",
       "1                                             236.47              \n",
       "2                                             269.60              \n",
       "3                                             309.04              \n",
       "4                                             366.27              \n",
       "\n",
       "   % change over previous year  Foreign exchange earnings(US $million)   \\\n",
       "0                         15.4                                     3460   \n",
       "1                          7.4                                     3198   \n",
       "2                         14.0                                     3103   \n",
       "3                         14.6                                     4463   \n",
       "4                         18.5                                     6170   \n",
       "\n",
       "   % change over previous year.1  Foreign exchange earnings(in crores)   \\\n",
       "0                           15.0                                  15626   \n",
       "1                           -7.6                                  15083   \n",
       "2                           -3.0                                  15064   \n",
       "3                           43.8                                  20729   \n",
       "4                           38.2                                  27944   \n",
       "\n",
       "   % change over previous year.2  \\\n",
       "0                           20.7   \n",
       "1                           -3.5   \n",
       "2                           -0.1   \n",
       "3                           37.6   \n",
       "4                           34.8   \n",
       "\n",
       "   No.of Indian Nationals Departures (in Millions)  \n",
       "0                                             3.53  \n",
       "1                                             4.56  \n",
       "2                                             4.94  \n",
       "3                                             5.35  \n",
       "4                                             6.21  "
      ]
     },
     "execution_count": 16,
     "metadata": {},
     "output_type": "execute_result"
    }
   ],
   "source": [
    "df1 = pd.read_excel(\"Tourism in india dataset.xlsx\")\n",
    "df1.head()"
   ]
  },
  {
   "cell_type": "code",
   "execution_count": 17,
   "metadata": {},
   "outputs": [
    {
     "data": {
      "text/html": [
       "<div>\n",
       "<style scoped>\n",
       "    .dataframe tbody tr th:only-of-type {\n",
       "        vertical-align: middle;\n",
       "    }\n",
       "\n",
       "    .dataframe tbody tr th {\n",
       "        vertical-align: top;\n",
       "    }\n",
       "\n",
       "    .dataframe thead th {\n",
       "        text-align: right;\n",
       "    }\n",
       "</style>\n",
       "<table border=\"1\" class=\"dataframe\">\n",
       "  <thead>\n",
       "    <tr style=\"text-align: right;\">\n",
       "      <th></th>\n",
       "      <th>Year</th>\n",
       "      <th>Foreign tourist arrivals in india(in million)</th>\n",
       "      <th>% change over previous year</th>\n",
       "      <th>Number of domestic tourists visits(in million)to all states</th>\n",
       "      <th>% change over previous year</th>\n",
       "      <th>Foreign exchange earnings(US $million)</th>\n",
       "      <th>% change over previous year.1</th>\n",
       "      <th>Foreign exchange earnings(in crores)</th>\n",
       "      <th>% change over previous year.2</th>\n",
       "      <th>No.of Indian Nationals Departures (in Millions)</th>\n",
       "    </tr>\n",
       "  </thead>\n",
       "  <tbody>\n",
       "    <tr>\n",
       "      <th>0</th>\n",
       "      <td>2000</td>\n",
       "      <td>2.65</td>\n",
       "      <td>6.7</td>\n",
       "      <td>220.11</td>\n",
       "      <td>15.4</td>\n",
       "      <td>3460</td>\n",
       "      <td>15.0</td>\n",
       "      <td>15626</td>\n",
       "      <td>20.7</td>\n",
       "      <td>3.53</td>\n",
       "    </tr>\n",
       "    <tr>\n",
       "      <th>1</th>\n",
       "      <td>2001</td>\n",
       "      <td>2.54</td>\n",
       "      <td>-4.2</td>\n",
       "      <td>236.47</td>\n",
       "      <td>7.4</td>\n",
       "      <td>3198</td>\n",
       "      <td>-7.6</td>\n",
       "      <td>15083</td>\n",
       "      <td>-3.5</td>\n",
       "      <td>4.56</td>\n",
       "    </tr>\n",
       "    <tr>\n",
       "      <th>2</th>\n",
       "      <td>2002</td>\n",
       "      <td>2.38</td>\n",
       "      <td>-6.0</td>\n",
       "      <td>269.60</td>\n",
       "      <td>14.0</td>\n",
       "      <td>3103</td>\n",
       "      <td>-3.0</td>\n",
       "      <td>15064</td>\n",
       "      <td>-0.1</td>\n",
       "      <td>4.94</td>\n",
       "    </tr>\n",
       "    <tr>\n",
       "      <th>3</th>\n",
       "      <td>2003</td>\n",
       "      <td>2.73</td>\n",
       "      <td>14.3</td>\n",
       "      <td>309.04</td>\n",
       "      <td>14.6</td>\n",
       "      <td>4463</td>\n",
       "      <td>43.8</td>\n",
       "      <td>20729</td>\n",
       "      <td>37.6</td>\n",
       "      <td>5.35</td>\n",
       "    </tr>\n",
       "    <tr>\n",
       "      <th>4</th>\n",
       "      <td>2004</td>\n",
       "      <td>3.46</td>\n",
       "      <td>26.8</td>\n",
       "      <td>366.27</td>\n",
       "      <td>18.5</td>\n",
       "      <td>6170</td>\n",
       "      <td>38.2</td>\n",
       "      <td>27944</td>\n",
       "      <td>34.8</td>\n",
       "      <td>6.21</td>\n",
       "    </tr>\n",
       "  </tbody>\n",
       "</table>\n",
       "</div>"
      ],
      "text/plain": [
       "   Year   Foreign tourist arrivals in india(in million)   \\\n",
       "0   2000                                            2.65   \n",
       "1   2001                                            2.54   \n",
       "2   2002                                            2.38   \n",
       "3   2003                                            2.73   \n",
       "4   2004                                            3.46   \n",
       "\n",
       "   % change over previous year   \\\n",
       "0                           6.7   \n",
       "1                          -4.2   \n",
       "2                          -6.0   \n",
       "3                          14.3   \n",
       "4                          26.8   \n",
       "\n",
       "   Number of domestic tourists visits(in million)to all states   \\\n",
       "0                                             220.11              \n",
       "1                                             236.47              \n",
       "2                                             269.60              \n",
       "3                                             309.04              \n",
       "4                                             366.27              \n",
       "\n",
       "   % change over previous year  Foreign exchange earnings(US $million)   \\\n",
       "0                         15.4                                     3460   \n",
       "1                          7.4                                     3198   \n",
       "2                         14.0                                     3103   \n",
       "3                         14.6                                     4463   \n",
       "4                         18.5                                     6170   \n",
       "\n",
       "   % change over previous year.1  Foreign exchange earnings(in crores)   \\\n",
       "0                           15.0                                  15626   \n",
       "1                           -7.6                                  15083   \n",
       "2                           -3.0                                  15064   \n",
       "3                           43.8                                  20729   \n",
       "4                           38.2                                  27944   \n",
       "\n",
       "   % change over previous year.2  \\\n",
       "0                           20.7   \n",
       "1                           -3.5   \n",
       "2                           -0.1   \n",
       "3                           37.6   \n",
       "4                           34.8   \n",
       "\n",
       "   No.of Indian Nationals Departures (in Millions)  \n",
       "0                                             3.53  \n",
       "1                                             4.56  \n",
       "2                                             4.94  \n",
       "3                                             5.35  \n",
       "4                                             6.21  "
      ]
     },
     "execution_count": 17,
     "metadata": {},
     "output_type": "execute_result"
    }
   ],
   "source": [
    "df1.head()"
   ]
  },
  {
   "cell_type": "code",
   "execution_count": 18,
   "metadata": {},
   "outputs": [
    {
     "data": {
      "text/html": [
       "<div>\n",
       "<style scoped>\n",
       "    .dataframe tbody tr th:only-of-type {\n",
       "        vertical-align: middle;\n",
       "    }\n",
       "\n",
       "    .dataframe tbody tr th {\n",
       "        vertical-align: top;\n",
       "    }\n",
       "\n",
       "    .dataframe thead th {\n",
       "        text-align: right;\n",
       "    }\n",
       "</style>\n",
       "<table border=\"1\" class=\"dataframe\">\n",
       "  <thead>\n",
       "    <tr style=\"text-align: right;\">\n",
       "      <th></th>\n",
       "      <th>Year</th>\n",
       "      <th>Foreign tourist arrivals in india(in million)</th>\n",
       "      <th>% change over previous year</th>\n",
       "      <th>Number of domestic tourists visits(in million)to all states</th>\n",
       "      <th>% change over previous year</th>\n",
       "      <th>Foreign exchange earnings(US $million)</th>\n",
       "      <th>% change over previous year.1</th>\n",
       "      <th>Foreign exchange earnings(in crores)</th>\n",
       "      <th>% change over previous year.2</th>\n",
       "      <th>No.of Indian Nationals Departures (in Millions)</th>\n",
       "    </tr>\n",
       "  </thead>\n",
       "  <tbody>\n",
       "    <tr>\n",
       "      <th>0</th>\n",
       "      <td>2000</td>\n",
       "      <td>2.65</td>\n",
       "      <td>6.7</td>\n",
       "      <td>220.11</td>\n",
       "      <td>15.4</td>\n",
       "      <td>3460</td>\n",
       "      <td>15.0</td>\n",
       "      <td>15626</td>\n",
       "      <td>20.7</td>\n",
       "      <td>3.53</td>\n",
       "    </tr>\n",
       "    <tr>\n",
       "      <th>1</th>\n",
       "      <td>2001</td>\n",
       "      <td>2.54</td>\n",
       "      <td>-4.2</td>\n",
       "      <td>236.47</td>\n",
       "      <td>7.4</td>\n",
       "      <td>3198</td>\n",
       "      <td>-7.6</td>\n",
       "      <td>15083</td>\n",
       "      <td>-3.5</td>\n",
       "      <td>4.56</td>\n",
       "    </tr>\n",
       "    <tr>\n",
       "      <th>2</th>\n",
       "      <td>2002</td>\n",
       "      <td>2.38</td>\n",
       "      <td>-6.0</td>\n",
       "      <td>269.60</td>\n",
       "      <td>14.0</td>\n",
       "      <td>3103</td>\n",
       "      <td>-3.0</td>\n",
       "      <td>15064</td>\n",
       "      <td>-0.1</td>\n",
       "      <td>4.94</td>\n",
       "    </tr>\n",
       "  </tbody>\n",
       "</table>\n",
       "</div>"
      ],
      "text/plain": [
       "   Year   Foreign tourist arrivals in india(in million)   \\\n",
       "0   2000                                            2.65   \n",
       "1   2001                                            2.54   \n",
       "2   2002                                            2.38   \n",
       "\n",
       "   % change over previous year   \\\n",
       "0                           6.7   \n",
       "1                          -4.2   \n",
       "2                          -6.0   \n",
       "\n",
       "   Number of domestic tourists visits(in million)to all states   \\\n",
       "0                                             220.11              \n",
       "1                                             236.47              \n",
       "2                                             269.60              \n",
       "\n",
       "   % change over previous year  Foreign exchange earnings(US $million)   \\\n",
       "0                         15.4                                     3460   \n",
       "1                          7.4                                     3198   \n",
       "2                         14.0                                     3103   \n",
       "\n",
       "   % change over previous year.1  Foreign exchange earnings(in crores)   \\\n",
       "0                           15.0                                  15626   \n",
       "1                           -7.6                                  15083   \n",
       "2                           -3.0                                  15064   \n",
       "\n",
       "   % change over previous year.2  \\\n",
       "0                           20.7   \n",
       "1                           -3.5   \n",
       "2                           -0.1   \n",
       "\n",
       "   No.of Indian Nationals Departures (in Millions)  \n",
       "0                                             3.53  \n",
       "1                                             4.56  \n",
       "2                                             4.94  "
      ]
     },
     "execution_count": 18,
     "metadata": {},
     "output_type": "execute_result"
    }
   ],
   "source": [
    "df1.head(3)"
   ]
  },
  {
   "cell_type": "markdown",
   "metadata": {},
   "source": [
    "# Select Last Few Rows from Dataset"
   ]
  },
  {
   "cell_type": "code",
   "execution_count": 19,
   "metadata": {},
   "outputs": [
    {
     "data": {
      "text/html": [
       "<div>\n",
       "<style scoped>\n",
       "    .dataframe tbody tr th:only-of-type {\n",
       "        vertical-align: middle;\n",
       "    }\n",
       "\n",
       "    .dataframe tbody tr th {\n",
       "        vertical-align: top;\n",
       "    }\n",
       "\n",
       "    .dataframe thead th {\n",
       "        text-align: right;\n",
       "    }\n",
       "</style>\n",
       "<table border=\"1\" class=\"dataframe\">\n",
       "  <thead>\n",
       "    <tr style=\"text-align: right;\">\n",
       "      <th></th>\n",
       "      <th>Year</th>\n",
       "      <th>Foreign tourist arrivals in india(in million)</th>\n",
       "      <th>% change over previous year</th>\n",
       "      <th>Number of domestic tourists visits(in million)to all states</th>\n",
       "      <th>% change over previous year</th>\n",
       "      <th>Foreign exchange earnings(US $million)</th>\n",
       "      <th>% change over previous year.1</th>\n",
       "      <th>Foreign exchange earnings(in crores)</th>\n",
       "      <th>% change over previous year.2</th>\n",
       "      <th>No.of Indian Nationals Departures (in Millions)</th>\n",
       "    </tr>\n",
       "  </thead>\n",
       "  <tbody>\n",
       "    <tr>\n",
       "      <th>15</th>\n",
       "      <td>2015</td>\n",
       "      <td>8.03</td>\n",
       "      <td>4.5</td>\n",
       "      <td>1431.97</td>\n",
       "      <td>11.6</td>\n",
       "      <td>21071</td>\n",
       "      <td>4.1</td>\n",
       "      <td>134844</td>\n",
       "      <td>12.0</td>\n",
       "      <td>20.38</td>\n",
       "    </tr>\n",
       "    <tr>\n",
       "      <th>16</th>\n",
       "      <td>2016</td>\n",
       "      <td>8.80</td>\n",
       "      <td>9.7</td>\n",
       "      <td>1615.39</td>\n",
       "      <td>12.8</td>\n",
       "      <td>22923</td>\n",
       "      <td>9.1</td>\n",
       "      <td>154146</td>\n",
       "      <td>14.3</td>\n",
       "      <td>21.87</td>\n",
       "    </tr>\n",
       "    <tr>\n",
       "      <th>17</th>\n",
       "      <td>2017</td>\n",
       "      <td>10.04</td>\n",
       "      <td>14.0</td>\n",
       "      <td>1657.55</td>\n",
       "      <td>2.6</td>\n",
       "      <td>27310</td>\n",
       "      <td>19.1</td>\n",
       "      <td>177874</td>\n",
       "      <td>15.4</td>\n",
       "      <td>23.94</td>\n",
       "    </tr>\n",
       "    <tr>\n",
       "      <th>18</th>\n",
       "      <td>2018</td>\n",
       "      <td>10.56</td>\n",
       "      <td>5.2</td>\n",
       "      <td>1853.79</td>\n",
       "      <td>11.8</td>\n",
       "      <td>28525</td>\n",
       "      <td>4.7</td>\n",
       "      <td>194882</td>\n",
       "      <td>9.6</td>\n",
       "      <td>26.30</td>\n",
       "    </tr>\n",
       "    <tr>\n",
       "      <th>19</th>\n",
       "      <td>2019</td>\n",
       "      <td>10.93</td>\n",
       "      <td>3.5</td>\n",
       "      <td>2321.98</td>\n",
       "      <td>25.3</td>\n",
       "      <td>30058</td>\n",
       "      <td>5.1</td>\n",
       "      <td>203658</td>\n",
       "      <td>13.4</td>\n",
       "      <td>26.92</td>\n",
       "    </tr>\n",
       "  </tbody>\n",
       "</table>\n",
       "</div>"
      ],
      "text/plain": [
       "    Year   Foreign tourist arrivals in india(in million)   \\\n",
       "15   2015                                            8.03   \n",
       "16   2016                                            8.80   \n",
       "17   2017                                           10.04   \n",
       "18   2018                                           10.56   \n",
       "19   2019                                           10.93   \n",
       "\n",
       "    % change over previous year   \\\n",
       "15                           4.5   \n",
       "16                           9.7   \n",
       "17                          14.0   \n",
       "18                           5.2   \n",
       "19                           3.5   \n",
       "\n",
       "    Number of domestic tourists visits(in million)to all states   \\\n",
       "15                                            1431.97              \n",
       "16                                            1615.39              \n",
       "17                                            1657.55              \n",
       "18                                            1853.79              \n",
       "19                                            2321.98              \n",
       "\n",
       "    % change over previous year  Foreign exchange earnings(US $million)   \\\n",
       "15                         11.6                                    21071   \n",
       "16                         12.8                                    22923   \n",
       "17                          2.6                                    27310   \n",
       "18                         11.8                                    28525   \n",
       "19                         25.3                                    30058   \n",
       "\n",
       "    % change over previous year.1  Foreign exchange earnings(in crores)   \\\n",
       "15                            4.1                                 134844   \n",
       "16                            9.1                                 154146   \n",
       "17                           19.1                                 177874   \n",
       "18                            4.7                                 194882   \n",
       "19                            5.1                                 203658   \n",
       "\n",
       "    % change over previous year.2  \\\n",
       "15                           12.0   \n",
       "16                           14.3   \n",
       "17                           15.4   \n",
       "18                            9.6   \n",
       "19                           13.4   \n",
       "\n",
       "    No.of Indian Nationals Departures (in Millions)  \n",
       "15                                            20.38  \n",
       "16                                            21.87  \n",
       "17                                            23.94  \n",
       "18                                            26.30  \n",
       "19                                            26.92  "
      ]
     },
     "execution_count": 19,
     "metadata": {},
     "output_type": "execute_result"
    }
   ],
   "source": [
    "df1.tail()"
   ]
  },
  {
   "cell_type": "code",
   "execution_count": 20,
   "metadata": {},
   "outputs": [
    {
     "data": {
      "text/html": [
       "<div>\n",
       "<style scoped>\n",
       "    .dataframe tbody tr th:only-of-type {\n",
       "        vertical-align: middle;\n",
       "    }\n",
       "\n",
       "    .dataframe tbody tr th {\n",
       "        vertical-align: top;\n",
       "    }\n",
       "\n",
       "    .dataframe thead th {\n",
       "        text-align: right;\n",
       "    }\n",
       "</style>\n",
       "<table border=\"1\" class=\"dataframe\">\n",
       "  <thead>\n",
       "    <tr style=\"text-align: right;\">\n",
       "      <th></th>\n",
       "      <th>Year</th>\n",
       "      <th>Foreign tourist arrivals in india(in million)</th>\n",
       "      <th>% change over previous year</th>\n",
       "      <th>Number of domestic tourists visits(in million)to all states</th>\n",
       "      <th>% change over previous year</th>\n",
       "      <th>Foreign exchange earnings(US $million)</th>\n",
       "      <th>% change over previous year.1</th>\n",
       "      <th>Foreign exchange earnings(in crores)</th>\n",
       "      <th>% change over previous year.2</th>\n",
       "      <th>No.of Indian Nationals Departures (in Millions)</th>\n",
       "    </tr>\n",
       "  </thead>\n",
       "  <tbody>\n",
       "    <tr>\n",
       "      <th>15</th>\n",
       "      <td>2015</td>\n",
       "      <td>8.03</td>\n",
       "      <td>4.5</td>\n",
       "      <td>1431.97</td>\n",
       "      <td>11.6</td>\n",
       "      <td>21071</td>\n",
       "      <td>4.1</td>\n",
       "      <td>134844</td>\n",
       "      <td>12.0</td>\n",
       "      <td>20.38</td>\n",
       "    </tr>\n",
       "    <tr>\n",
       "      <th>16</th>\n",
       "      <td>2016</td>\n",
       "      <td>8.80</td>\n",
       "      <td>9.7</td>\n",
       "      <td>1615.39</td>\n",
       "      <td>12.8</td>\n",
       "      <td>22923</td>\n",
       "      <td>9.1</td>\n",
       "      <td>154146</td>\n",
       "      <td>14.3</td>\n",
       "      <td>21.87</td>\n",
       "    </tr>\n",
       "    <tr>\n",
       "      <th>17</th>\n",
       "      <td>2017</td>\n",
       "      <td>10.04</td>\n",
       "      <td>14.0</td>\n",
       "      <td>1657.55</td>\n",
       "      <td>2.6</td>\n",
       "      <td>27310</td>\n",
       "      <td>19.1</td>\n",
       "      <td>177874</td>\n",
       "      <td>15.4</td>\n",
       "      <td>23.94</td>\n",
       "    </tr>\n",
       "    <tr>\n",
       "      <th>18</th>\n",
       "      <td>2018</td>\n",
       "      <td>10.56</td>\n",
       "      <td>5.2</td>\n",
       "      <td>1853.79</td>\n",
       "      <td>11.8</td>\n",
       "      <td>28525</td>\n",
       "      <td>4.7</td>\n",
       "      <td>194882</td>\n",
       "      <td>9.6</td>\n",
       "      <td>26.30</td>\n",
       "    </tr>\n",
       "    <tr>\n",
       "      <th>19</th>\n",
       "      <td>2019</td>\n",
       "      <td>10.93</td>\n",
       "      <td>3.5</td>\n",
       "      <td>2321.98</td>\n",
       "      <td>25.3</td>\n",
       "      <td>30058</td>\n",
       "      <td>5.1</td>\n",
       "      <td>203658</td>\n",
       "      <td>13.4</td>\n",
       "      <td>26.92</td>\n",
       "    </tr>\n",
       "  </tbody>\n",
       "</table>\n",
       "</div>"
      ],
      "text/plain": [
       "    Year   Foreign tourist arrivals in india(in million)   \\\n",
       "15   2015                                            8.03   \n",
       "16   2016                                            8.80   \n",
       "17   2017                                           10.04   \n",
       "18   2018                                           10.56   \n",
       "19   2019                                           10.93   \n",
       "\n",
       "    % change over previous year   \\\n",
       "15                           4.5   \n",
       "16                           9.7   \n",
       "17                          14.0   \n",
       "18                           5.2   \n",
       "19                           3.5   \n",
       "\n",
       "    Number of domestic tourists visits(in million)to all states   \\\n",
       "15                                            1431.97              \n",
       "16                                            1615.39              \n",
       "17                                            1657.55              \n",
       "18                                            1853.79              \n",
       "19                                            2321.98              \n",
       "\n",
       "    % change over previous year  Foreign exchange earnings(US $million)   \\\n",
       "15                         11.6                                    21071   \n",
       "16                         12.8                                    22923   \n",
       "17                          2.6                                    27310   \n",
       "18                         11.8                                    28525   \n",
       "19                         25.3                                    30058   \n",
       "\n",
       "    % change over previous year.1  Foreign exchange earnings(in crores)   \\\n",
       "15                            4.1                                 134844   \n",
       "16                            9.1                                 154146   \n",
       "17                           19.1                                 177874   \n",
       "18                            4.7                                 194882   \n",
       "19                            5.1                                 203658   \n",
       "\n",
       "    % change over previous year.2  \\\n",
       "15                           12.0   \n",
       "16                           14.3   \n",
       "17                           15.4   \n",
       "18                            9.6   \n",
       "19                           13.4   \n",
       "\n",
       "    No.of Indian Nationals Departures (in Millions)  \n",
       "15                                            20.38  \n",
       "16                                            21.87  \n",
       "17                                            23.94  \n",
       "18                                            26.30  \n",
       "19                                            26.92  "
      ]
     },
     "execution_count": 20,
     "metadata": {},
     "output_type": "execute_result"
    }
   ],
   "source": [
    "df1.tail(5)"
   ]
  },
  {
   "cell_type": "markdown",
   "metadata": {},
   "source": [
    "# Information about Dataset"
   ]
  },
  {
   "cell_type": "code",
   "execution_count": 21,
   "metadata": {},
   "outputs": [
    {
     "name": "stdout",
     "output_type": "stream",
     "text": [
      "<class 'pandas.core.frame.DataFrame'>\n",
      "RangeIndex: 20 entries, 0 to 19\n",
      "Data columns (total 10 columns):\n",
      " #   Column                                                        Non-Null Count  Dtype  \n",
      "---  ------                                                        --------------  -----  \n",
      " 0   Year                                                          20 non-null     int64  \n",
      " 1   Foreign tourist arrivals in india(in million)                 20 non-null     float64\n",
      " 2   % change over previous year                                   20 non-null     float64\n",
      " 3   Number of domestic tourists visits(in million)to all states   20 non-null     float64\n",
      " 4   % change over previous year                                   20 non-null     float64\n",
      " 5   Foreign exchange earnings(US $million)                        20 non-null     int64  \n",
      " 6   % change over previous year.1                                 20 non-null     float64\n",
      " 7   Foreign exchange earnings(in crores)                          20 non-null     int64  \n",
      " 8   % change over previous year.2                                 20 non-null     float64\n",
      " 9   No.of Indian Nationals Departures (in Millions)               20 non-null     float64\n",
      "dtypes: float64(7), int64(3)\n",
      "memory usage: 1.7 KB\n"
     ]
    }
   ],
   "source": [
    "df1.info()"
   ]
  },
  {
   "cell_type": "markdown",
   "metadata": {},
   "source": [
    "# Knowing the Variable Type"
   ]
  },
  {
   "cell_type": "code",
   "execution_count": 41,
   "metadata": {},
   "outputs": [
    {
     "data": {
      "text/plain": [
       "Year                                                              int64\n",
       "Foreign tourist arrivals in india(in million)                   float64\n",
       "% change over previous year                                     float64\n",
       "Number of domestic tourists visits(in million)to all states     float64\n",
       "% change over previous year                                     float64\n",
       "Foreign exchange earnings(US $million)                            int64\n",
       "% change over previous year.1                                   float64\n",
       "Foreign exchange earnings(in crores)                              int64\n",
       "% change over previous year.2                                   float64\n",
       "No.of Indian Nationals Departures (in Millions)                 float64\n",
       "dtype: object"
      ]
     },
     "execution_count": 41,
     "metadata": {},
     "output_type": "execute_result"
    }
   ],
   "source": [
    "df1.dtypes"
   ]
  },
  {
   "cell_type": "markdown",
   "metadata": {},
   "source": [
    "# Summary Statistics Of Dataset"
   ]
  },
  {
   "cell_type": "code",
   "execution_count": 40,
   "metadata": {},
   "outputs": [
    {
     "data": {
      "text/html": [
       "<div>\n",
       "<style scoped>\n",
       "    .dataframe tbody tr th:only-of-type {\n",
       "        vertical-align: middle;\n",
       "    }\n",
       "\n",
       "    .dataframe tbody tr th {\n",
       "        vertical-align: top;\n",
       "    }\n",
       "\n",
       "    .dataframe thead th {\n",
       "        text-align: right;\n",
       "    }\n",
       "</style>\n",
       "<table border=\"1\" class=\"dataframe\">\n",
       "  <thead>\n",
       "    <tr style=\"text-align: right;\">\n",
       "      <th></th>\n",
       "      <th>Year</th>\n",
       "      <th>Foreign tourist arrivals in india(in million)</th>\n",
       "      <th>% change over previous year</th>\n",
       "      <th>Number of domestic tourists visits(in million)to all states</th>\n",
       "      <th>% change over previous year</th>\n",
       "      <th>Foreign exchange earnings(US $million)</th>\n",
       "      <th>% change over previous year.1</th>\n",
       "      <th>Foreign exchange earnings(in crores)</th>\n",
       "      <th>% change over previous year.2</th>\n",
       "      <th>No.of Indian Nationals Departures (in Millions)</th>\n",
       "    </tr>\n",
       "  </thead>\n",
       "  <tbody>\n",
       "    <tr>\n",
       "      <th>count</th>\n",
       "      <td>20.00000</td>\n",
       "      <td>20.000000</td>\n",
       "      <td>20.000000</td>\n",
       "      <td>20.000000</td>\n",
       "      <td>20.000000</td>\n",
       "      <td>20.000000</td>\n",
       "      <td>20.00000</td>\n",
       "      <td>20.00000</td>\n",
       "      <td>20.00000</td>\n",
       "      <td>20.000000</td>\n",
       "    </tr>\n",
       "    <tr>\n",
       "      <th>mean</th>\n",
       "      <td>2009.50000</td>\n",
       "      <td>5.967000</td>\n",
       "      <td>7.940000</td>\n",
       "      <td>898.889500</td>\n",
       "      <td>13.425000</td>\n",
       "      <td>14364.000000</td>\n",
       "      <td>12.94000</td>\n",
       "      <td>82707.65000</td>\n",
       "      <td>15.63500</td>\n",
       "      <td>13.405000</td>\n",
       "    </tr>\n",
       "    <tr>\n",
       "      <th>std</th>\n",
       "      <td>5.91608</td>\n",
       "      <td>2.712825</td>\n",
       "      <td>7.524374</td>\n",
       "      <td>617.341056</td>\n",
       "      <td>5.368806</td>\n",
       "      <td>8722.934749</td>\n",
       "      <td>13.47342</td>\n",
       "      <td>62709.74625</td>\n",
       "      <td>9.88557</td>\n",
       "      <td>7.508508</td>\n",
       "    </tr>\n",
       "    <tr>\n",
       "      <th>min</th>\n",
       "      <td>2000.00000</td>\n",
       "      <td>2.380000</td>\n",
       "      <td>-6.000000</td>\n",
       "      <td>220.110000</td>\n",
       "      <td>2.600000</td>\n",
       "      <td>3103.000000</td>\n",
       "      <td>-7.60000</td>\n",
       "      <td>15064.00000</td>\n",
       "      <td>-3.50000</td>\n",
       "      <td>3.530000</td>\n",
       "    </tr>\n",
       "    <tr>\n",
       "      <th>25%</th>\n",
       "      <td>2004.75000</td>\n",
       "      <td>3.805000</td>\n",
       "      <td>4.225000</td>\n",
       "      <td>385.597500</td>\n",
       "      <td>11.025000</td>\n",
       "      <td>7162.250000</td>\n",
       "      <td>4.55000</td>\n",
       "      <td>31828.25000</td>\n",
       "      <td>11.97500</td>\n",
       "      <td>6.937500</td>\n",
       "    </tr>\n",
       "    <tr>\n",
       "      <th>50%</th>\n",
       "      <td>2009.50000</td>\n",
       "      <td>5.530000</td>\n",
       "      <td>7.950000</td>\n",
       "      <td>708.250000</td>\n",
       "      <td>13.350000</td>\n",
       "      <td>13012.500000</td>\n",
       "      <td>10.00000</td>\n",
       "      <td>59963.00000</td>\n",
       "      <td>14.70000</td>\n",
       "      <td>12.030000</td>\n",
       "    </tr>\n",
       "    <tr>\n",
       "      <th>75%</th>\n",
       "      <td>2014.25000</td>\n",
       "      <td>7.767500</td>\n",
       "      <td>13.350000</td>\n",
       "      <td>1320.092500</td>\n",
       "      <td>16.200000</td>\n",
       "      <td>20444.750000</td>\n",
       "      <td>19.67500</td>\n",
       "      <td>123986.25000</td>\n",
       "      <td>19.05000</td>\n",
       "      <td>18.842500</td>\n",
       "    </tr>\n",
       "    <tr>\n",
       "      <th>max</th>\n",
       "      <td>2019.00000</td>\n",
       "      <td>10.930000</td>\n",
       "      <td>26.800000</td>\n",
       "      <td>2321.980000</td>\n",
       "      <td>25.300000</td>\n",
       "      <td>30058.000000</td>\n",
       "      <td>43.80000</td>\n",
       "      <td>203658.00000</td>\n",
       "      <td>37.60000</td>\n",
       "      <td>26.920000</td>\n",
       "    </tr>\n",
       "  </tbody>\n",
       "</table>\n",
       "</div>"
      ],
      "text/plain": [
       "            Year   Foreign tourist arrivals in india(in million)   \\\n",
       "count    20.00000                                       20.000000   \n",
       "mean   2009.50000                                        5.967000   \n",
       "std       5.91608                                        2.712825   \n",
       "min    2000.00000                                        2.380000   \n",
       "25%    2004.75000                                        3.805000   \n",
       "50%    2009.50000                                        5.530000   \n",
       "75%    2014.25000                                        7.767500   \n",
       "max    2019.00000                                       10.930000   \n",
       "\n",
       "       % change over previous year   \\\n",
       "count                     20.000000   \n",
       "mean                       7.940000   \n",
       "std                        7.524374   \n",
       "min                       -6.000000   \n",
       "25%                        4.225000   \n",
       "50%                        7.950000   \n",
       "75%                       13.350000   \n",
       "max                       26.800000   \n",
       "\n",
       "       Number of domestic tourists visits(in million)to all states   \\\n",
       "count                                          20.000000              \n",
       "mean                                          898.889500              \n",
       "std                                           617.341056              \n",
       "min                                           220.110000              \n",
       "25%                                           385.597500              \n",
       "50%                                           708.250000              \n",
       "75%                                          1320.092500              \n",
       "max                                          2321.980000              \n",
       "\n",
       "       % change over previous year  Foreign exchange earnings(US $million)   \\\n",
       "count                    20.000000                                20.000000   \n",
       "mean                     13.425000                             14364.000000   \n",
       "std                       5.368806                              8722.934749   \n",
       "min                       2.600000                              3103.000000   \n",
       "25%                      11.025000                              7162.250000   \n",
       "50%                      13.350000                             13012.500000   \n",
       "75%                      16.200000                             20444.750000   \n",
       "max                      25.300000                             30058.000000   \n",
       "\n",
       "       % change over previous year.1  Foreign exchange earnings(in crores)   \\\n",
       "count                       20.00000                               20.00000   \n",
       "mean                        12.94000                            82707.65000   \n",
       "std                         13.47342                            62709.74625   \n",
       "min                         -7.60000                            15064.00000   \n",
       "25%                          4.55000                            31828.25000   \n",
       "50%                         10.00000                            59963.00000   \n",
       "75%                         19.67500                           123986.25000   \n",
       "max                         43.80000                           203658.00000   \n",
       "\n",
       "       % change over previous year.2  \\\n",
       "count                       20.00000   \n",
       "mean                        15.63500   \n",
       "std                          9.88557   \n",
       "min                         -3.50000   \n",
       "25%                         11.97500   \n",
       "50%                         14.70000   \n",
       "75%                         19.05000   \n",
       "max                         37.60000   \n",
       "\n",
       "       No.of Indian Nationals Departures (in Millions)  \n",
       "count                                        20.000000  \n",
       "mean                                         13.405000  \n",
       "std                                           7.508508  \n",
       "min                                           3.530000  \n",
       "25%                                           6.937500  \n",
       "50%                                          12.030000  \n",
       "75%                                          18.842500  \n",
       "max                                          26.920000  "
      ]
     },
     "execution_count": 40,
     "metadata": {},
     "output_type": "execute_result"
    }
   ],
   "source": [
    "df1.describe()"
   ]
  },
  {
   "cell_type": "markdown",
   "metadata": {},
   "source": [
    "# View only Some of the Rows at some specific location"
   ]
  },
  {
   "cell_type": "code",
   "execution_count": 7,
   "metadata": {},
   "outputs": [
    {
     "data": {
      "text/html": [
       "<div>\n",
       "<style scoped>\n",
       "    .dataframe tbody tr th:only-of-type {\n",
       "        vertical-align: middle;\n",
       "    }\n",
       "\n",
       "    .dataframe tbody tr th {\n",
       "        vertical-align: top;\n",
       "    }\n",
       "\n",
       "    .dataframe thead th {\n",
       "        text-align: right;\n",
       "    }\n",
       "</style>\n",
       "<table border=\"1\" class=\"dataframe\">\n",
       "  <thead>\n",
       "    <tr style=\"text-align: right;\">\n",
       "      <th></th>\n",
       "      <th>Heritage sites</th>\n",
       "      <th>Total Number of Tourists arrivals in 2019</th>\n",
       "      <th>Foreign Tourists arrivals</th>\n",
       "      <th>Domestic Tourists arrivals</th>\n",
       "    </tr>\n",
       "  </thead>\n",
       "  <tbody>\n",
       "    <tr>\n",
       "      <th>0</th>\n",
       "      <td>Ajanta Caves</td>\n",
       "      <td>41134</td>\n",
       "      <td>3352</td>\n",
       "      <td>37782</td>\n",
       "    </tr>\n",
       "    <tr>\n",
       "      <th>1</th>\n",
       "      <td>Ellora Caves</td>\n",
       "      <td>18000</td>\n",
       "      <td>3482</td>\n",
       "      <td>14518</td>\n",
       "    </tr>\n",
       "    <tr>\n",
       "      <th>2</th>\n",
       "      <td>Agra Fort</td>\n",
       "      <td>2500000</td>\n",
       "      <td>526000</td>\n",
       "      <td>1974000</td>\n",
       "    </tr>\n",
       "    <tr>\n",
       "      <th>3</th>\n",
       "      <td>Taj Mahal</td>\n",
       "      <td>6900000</td>\n",
       "      <td>883000</td>\n",
       "      <td>6017000</td>\n",
       "    </tr>\n",
       "    <tr>\n",
       "      <th>4</th>\n",
       "      <td>Sun Temple, Konarak</td>\n",
       "      <td>2526359</td>\n",
       "      <td>65000</td>\n",
       "      <td>2461359</td>\n",
       "    </tr>\n",
       "  </tbody>\n",
       "</table>\n",
       "</div>"
      ],
      "text/plain": [
       "        Heritage sites  Total Number of Tourists arrivals in 2019  \\\n",
       "0         Ajanta Caves                                      41134   \n",
       "1         Ellora Caves                                      18000   \n",
       "2            Agra Fort                                    2500000   \n",
       "3            Taj Mahal                                    6900000   \n",
       "4  Sun Temple, Konarak                                    2526359   \n",
       "\n",
       "   Foreign Tourists arrivals  Domestic Tourists arrivals  \n",
       "0                       3352                       37782  \n",
       "1                       3482                       14518  \n",
       "2                     526000                     1974000  \n",
       "3                     883000                     6017000  \n",
       "4                      65000                     2461359  "
      ]
     },
     "execution_count": 7,
     "metadata": {},
     "output_type": "execute_result"
    }
   ],
   "source": [
    "df2 = pd.read_excel(\"Heritage visit.xlsx\")\n",
    "df2.head()"
   ]
  },
  {
   "cell_type": "code",
   "execution_count": 54,
   "metadata": {},
   "outputs": [
    {
     "data": {
      "text/html": [
       "<div>\n",
       "<style scoped>\n",
       "    .dataframe tbody tr th:only-of-type {\n",
       "        vertical-align: middle;\n",
       "    }\n",
       "\n",
       "    .dataframe tbody tr th {\n",
       "        vertical-align: top;\n",
       "    }\n",
       "\n",
       "    .dataframe thead th {\n",
       "        text-align: right;\n",
       "    }\n",
       "</style>\n",
       "<table border=\"1\" class=\"dataframe\">\n",
       "  <thead>\n",
       "    <tr style=\"text-align: right;\">\n",
       "      <th></th>\n",
       "      <th>Heritage sites</th>\n",
       "      <th>Total Number of Tourists arrivals in 2019</th>\n",
       "      <th>Foreign Tourists arrivals</th>\n",
       "      <th>Domestic Tourists arrivals</th>\n",
       "    </tr>\n",
       "  </thead>\n",
       "  <tbody>\n",
       "    <tr>\n",
       "      <th>3</th>\n",
       "      <td>Taj Mahal</td>\n",
       "      <td>6900000</td>\n",
       "      <td>883000</td>\n",
       "      <td>6017000</td>\n",
       "    </tr>\n",
       "    <tr>\n",
       "      <th>4</th>\n",
       "      <td>Sun Temple, Konarak</td>\n",
       "      <td>2526359</td>\n",
       "      <td>65000</td>\n",
       "      <td>2461359</td>\n",
       "    </tr>\n",
       "    <tr>\n",
       "      <th>5</th>\n",
       "      <td>Golden temple,Amritsar</td>\n",
       "      <td>100000</td>\n",
       "      <td>26548</td>\n",
       "      <td>73452</td>\n",
       "    </tr>\n",
       "    <tr>\n",
       "      <th>6</th>\n",
       "      <td>Group of Monuments at Khajuraho</td>\n",
       "      <td>734831</td>\n",
       "      <td>80000</td>\n",
       "      <td>654831</td>\n",
       "    </tr>\n",
       "  </tbody>\n",
       "</table>\n",
       "</div>"
      ],
      "text/plain": [
       "                    Heritage sites  Total Number of Tourists arrivals in 2019  \\\n",
       "3                        Taj Mahal                                    6900000   \n",
       "4              Sun Temple, Konarak                                    2526359   \n",
       "5           Golden temple,Amritsar                                     100000   \n",
       "6  Group of Monuments at Khajuraho                                     734831   \n",
       "\n",
       "   Foreign Tourists arrivals  Domestic Tourists arrivals  \n",
       "3                     883000                     6017000  \n",
       "4                      65000                     2461359  \n",
       "5                      26548                       73452  \n",
       "6                      80000                      654831  "
      ]
     },
     "execution_count": 54,
     "metadata": {},
     "output_type": "execute_result"
    }
   ],
   "source": [
    "df2.iloc[3:7]"
   ]
  },
  {
   "cell_type": "markdown",
   "metadata": {},
   "source": [
    "# View only Some of the Rows at some specific location with Specific Columns"
   ]
  },
  {
   "cell_type": "code",
   "execution_count": 8,
   "metadata": {},
   "outputs": [
    {
     "data": {
      "text/html": [
       "<div>\n",
       "<style scoped>\n",
       "    .dataframe tbody tr th:only-of-type {\n",
       "        vertical-align: middle;\n",
       "    }\n",
       "\n",
       "    .dataframe tbody tr th {\n",
       "        vertical-align: top;\n",
       "    }\n",
       "\n",
       "    .dataframe thead th {\n",
       "        text-align: right;\n",
       "    }\n",
       "</style>\n",
       "<table border=\"1\" class=\"dataframe\">\n",
       "  <thead>\n",
       "    <tr style=\"text-align: right;\">\n",
       "      <th></th>\n",
       "      <th>Heritage sites</th>\n",
       "      <th>Total Number of Tourists arrivals in 2019</th>\n",
       "      <th>Foreign Tourists arrivals</th>\n",
       "      <th>Domestic Tourists arrivals</th>\n",
       "    </tr>\n",
       "  </thead>\n",
       "  <tbody>\n",
       "    <tr>\n",
       "      <th>3</th>\n",
       "      <td>Taj Mahal</td>\n",
       "      <td>6900000</td>\n",
       "      <td>883000</td>\n",
       "      <td>6017000</td>\n",
       "    </tr>\n",
       "    <tr>\n",
       "      <th>4</th>\n",
       "      <td>Sun Temple, Konarak</td>\n",
       "      <td>2526359</td>\n",
       "      <td>65000</td>\n",
       "      <td>2461359</td>\n",
       "    </tr>\n",
       "    <tr>\n",
       "      <th>5</th>\n",
       "      <td>Golden temple,Amritsar</td>\n",
       "      <td>100000</td>\n",
       "      <td>26548</td>\n",
       "      <td>73452</td>\n",
       "    </tr>\n",
       "    <tr>\n",
       "      <th>6</th>\n",
       "      <td>Group of Monuments at Khajuraho</td>\n",
       "      <td>734831</td>\n",
       "      <td>80000</td>\n",
       "      <td>654831</td>\n",
       "    </tr>\n",
       "  </tbody>\n",
       "</table>\n",
       "</div>"
      ],
      "text/plain": [
       "                    Heritage sites  Total Number of Tourists arrivals in 2019  \\\n",
       "3                        Taj Mahal                                    6900000   \n",
       "4              Sun Temple, Konarak                                    2526359   \n",
       "5           Golden temple,Amritsar                                     100000   \n",
       "6  Group of Monuments at Khajuraho                                     734831   \n",
       "\n",
       "   Foreign Tourists arrivals  Domestic Tourists arrivals  \n",
       "3                     883000                     6017000  \n",
       "4                      65000                     2461359  \n",
       "5                      26548                       73452  \n",
       "6                      80000                      654831  "
      ]
     },
     "execution_count": 8,
     "metadata": {},
     "output_type": "execute_result"
    }
   ],
   "source": [
    "df2.iloc[3:7, 0:5]"
   ]
  },
  {
   "cell_type": "markdown",
   "metadata": {},
   "source": [
    "# Use of loc() for extracting Rows and Columns"
   ]
  },
  {
   "cell_type": "code",
   "execution_count": 62,
   "metadata": {},
   "outputs": [
    {
     "data": {
      "text/html": [
       "<div>\n",
       "<style scoped>\n",
       "    .dataframe tbody tr th:only-of-type {\n",
       "        vertical-align: middle;\n",
       "    }\n",
       "\n",
       "    .dataframe tbody tr th {\n",
       "        vertical-align: top;\n",
       "    }\n",
       "\n",
       "    .dataframe thead th {\n",
       "        text-align: right;\n",
       "    }\n",
       "</style>\n",
       "<table border=\"1\" class=\"dataframe\">\n",
       "  <thead>\n",
       "    <tr style=\"text-align: right;\">\n",
       "      <th></th>\n",
       "      <th>Heritage sites</th>\n",
       "      <th>Total Number of Tourists arrivals in 2019</th>\n",
       "      <th>Foreign Tourists arrivals</th>\n",
       "    </tr>\n",
       "  </thead>\n",
       "  <tbody>\n",
       "    <tr>\n",
       "      <th>0</th>\n",
       "      <td>Ajanta Caves</td>\n",
       "      <td>41134</td>\n",
       "      <td>3352</td>\n",
       "    </tr>\n",
       "    <tr>\n",
       "      <th>1</th>\n",
       "      <td>Ellora Caves</td>\n",
       "      <td>18000</td>\n",
       "      <td>3482</td>\n",
       "    </tr>\n",
       "    <tr>\n",
       "      <th>2</th>\n",
       "      <td>Agra Fort</td>\n",
       "      <td>2500000</td>\n",
       "      <td>526000</td>\n",
       "    </tr>\n",
       "    <tr>\n",
       "      <th>3</th>\n",
       "      <td>Taj Mahal</td>\n",
       "      <td>6900000</td>\n",
       "      <td>883000</td>\n",
       "    </tr>\n",
       "    <tr>\n",
       "      <th>4</th>\n",
       "      <td>Sun Temple, Konarak</td>\n",
       "      <td>2526359</td>\n",
       "      <td>65000</td>\n",
       "    </tr>\n",
       "    <tr>\n",
       "      <th>5</th>\n",
       "      <td>Golden temple,Amritsar</td>\n",
       "      <td>100000</td>\n",
       "      <td>26548</td>\n",
       "    </tr>\n",
       "    <tr>\n",
       "      <th>6</th>\n",
       "      <td>Group of Monuments at Khajuraho</td>\n",
       "      <td>734831</td>\n",
       "      <td>80000</td>\n",
       "    </tr>\n",
       "  </tbody>\n",
       "</table>\n",
       "</div>"
      ],
      "text/plain": [
       "                    Heritage sites  Total Number of Tourists arrivals in 2019  \\\n",
       "0                     Ajanta Caves                                      41134   \n",
       "1                     Ellora Caves                                      18000   \n",
       "2                        Agra Fort                                    2500000   \n",
       "3                        Taj Mahal                                    6900000   \n",
       "4              Sun Temple, Konarak                                    2526359   \n",
       "5           Golden temple,Amritsar                                     100000   \n",
       "6  Group of Monuments at Khajuraho                                     734831   \n",
       "\n",
       "   Foreign Tourists arrivals  \n",
       "0                       3352  \n",
       "1                       3482  \n",
       "2                     526000  \n",
       "3                     883000  \n",
       "4                      65000  \n",
       "5                      26548  \n",
       "6                      80000  "
      ]
     },
     "execution_count": 62,
     "metadata": {},
     "output_type": "execute_result"
    }
   ],
   "source": [
    "df2.loc[:,[\"Heritage sites\",\"Total Number of Tourists arrivals in 2019\",\"Foreign Tourists arrivals\"]]"
   ]
  },
  {
   "cell_type": "markdown",
   "metadata": {},
   "source": [
    "# Replace Function"
   ]
  },
  {
   "cell_type": "code",
   "execution_count": 68,
   "metadata": {},
   "outputs": [
    {
     "data": {
      "text/plain": [
       "Index(['Heritage ', 'Total Number of Tourists arrivals in 2019',\n",
       "       'Foreign Tourists arrivals', 'Domestic Tourists arrivals'],\n",
       "      dtype='object')"
      ]
     },
     "execution_count": 68,
     "metadata": {},
     "output_type": "execute_result"
    }
   ],
   "source": [
    "df2.columns = df2.columns.str.replace('Heritage sites' , 'Heritage ')\n",
    "df2.columns"
   ]
  },
  {
   "cell_type": "markdown",
   "metadata": {},
   "source": [
    "# Mean"
   ]
  },
  {
   "cell_type": "code",
   "execution_count": 67,
   "metadata": {},
   "outputs": [
    {
     "data": {
      "text/plain": [
       "Total Number of Tourists arrivals in 2019    1.831475e+06\n",
       "Foreign Tourists arrivals                    2.267689e+05\n",
       "Domestic Tourists arrivals                   1.604706e+06\n",
       "dtype: float64"
      ]
     },
     "execution_count": 67,
     "metadata": {},
     "output_type": "execute_result"
    }
   ],
   "source": [
    "df2.mean()"
   ]
  },
  {
   "cell_type": "markdown",
   "metadata": {},
   "source": [
    "# Mode"
   ]
  },
  {
   "cell_type": "code",
   "execution_count": 66,
   "metadata": {},
   "outputs": [
    {
     "data": {
      "text/html": [
       "<div>\n",
       "<style scoped>\n",
       "    .dataframe tbody tr th:only-of-type {\n",
       "        vertical-align: middle;\n",
       "    }\n",
       "\n",
       "    .dataframe tbody tr th {\n",
       "        vertical-align: top;\n",
       "    }\n",
       "\n",
       "    .dataframe thead th {\n",
       "        text-align: right;\n",
       "    }\n",
       "</style>\n",
       "<table border=\"1\" class=\"dataframe\">\n",
       "  <thead>\n",
       "    <tr style=\"text-align: right;\">\n",
       "      <th></th>\n",
       "      <th>Heritage sites</th>\n",
       "      <th>Total Number of Tourists arrivals in 2019</th>\n",
       "      <th>Foreign Tourists arrivals</th>\n",
       "      <th>Domestic Tourists arrivals</th>\n",
       "    </tr>\n",
       "  </thead>\n",
       "  <tbody>\n",
       "    <tr>\n",
       "      <th>0</th>\n",
       "      <td>Agra Fort</td>\n",
       "      <td>18000</td>\n",
       "      <td>3352</td>\n",
       "      <td>14518</td>\n",
       "    </tr>\n",
       "    <tr>\n",
       "      <th>1</th>\n",
       "      <td>Ajanta Caves</td>\n",
       "      <td>41134</td>\n",
       "      <td>3482</td>\n",
       "      <td>37782</td>\n",
       "    </tr>\n",
       "    <tr>\n",
       "      <th>2</th>\n",
       "      <td>Ellora Caves</td>\n",
       "      <td>100000</td>\n",
       "      <td>26548</td>\n",
       "      <td>73452</td>\n",
       "    </tr>\n",
       "    <tr>\n",
       "      <th>3</th>\n",
       "      <td>Golden temple,Amritsar</td>\n",
       "      <td>734831</td>\n",
       "      <td>65000</td>\n",
       "      <td>654831</td>\n",
       "    </tr>\n",
       "    <tr>\n",
       "      <th>4</th>\n",
       "      <td>Group of Monuments at Khajuraho</td>\n",
       "      <td>2500000</td>\n",
       "      <td>80000</td>\n",
       "      <td>1974000</td>\n",
       "    </tr>\n",
       "    <tr>\n",
       "      <th>5</th>\n",
       "      <td>Sun Temple, Konarak</td>\n",
       "      <td>2526359</td>\n",
       "      <td>526000</td>\n",
       "      <td>2461359</td>\n",
       "    </tr>\n",
       "    <tr>\n",
       "      <th>6</th>\n",
       "      <td>Taj Mahal</td>\n",
       "      <td>6900000</td>\n",
       "      <td>883000</td>\n",
       "      <td>6017000</td>\n",
       "    </tr>\n",
       "  </tbody>\n",
       "</table>\n",
       "</div>"
      ],
      "text/plain": [
       "                    Heritage sites  Total Number of Tourists arrivals in 2019  \\\n",
       "0                        Agra Fort                                      18000   \n",
       "1                     Ajanta Caves                                      41134   \n",
       "2                     Ellora Caves                                     100000   \n",
       "3           Golden temple,Amritsar                                     734831   \n",
       "4  Group of Monuments at Khajuraho                                    2500000   \n",
       "5              Sun Temple, Konarak                                    2526359   \n",
       "6                        Taj Mahal                                    6900000   \n",
       "\n",
       "   Foreign Tourists arrivals  Domestic Tourists arrivals  \n",
       "0                       3352                       14518  \n",
       "1                       3482                       37782  \n",
       "2                      26548                       73452  \n",
       "3                      65000                      654831  \n",
       "4                      80000                     1974000  \n",
       "5                     526000                     2461359  \n",
       "6                     883000                     6017000  "
      ]
     },
     "execution_count": 66,
     "metadata": {},
     "output_type": "execute_result"
    }
   ],
   "source": [
    "df2.mode()"
   ]
  },
  {
   "cell_type": "markdown",
   "metadata": {},
   "source": [
    "# Median"
   ]
  },
  {
   "cell_type": "code",
   "execution_count": 69,
   "metadata": {},
   "outputs": [
    {
     "data": {
      "text/plain": [
       "Total Number of Tourists arrivals in 2019    734831.0\n",
       "Foreign Tourists arrivals                     65000.0\n",
       "Domestic Tourists arrivals                   654831.0\n",
       "dtype: float64"
      ]
     },
     "execution_count": 69,
     "metadata": {},
     "output_type": "execute_result"
    }
   ],
   "source": [
    "df2.median()"
   ]
  },
  {
   "cell_type": "markdown",
   "metadata": {},
   "source": [
    "# Max"
   ]
  },
  {
   "cell_type": "code",
   "execution_count": 70,
   "metadata": {},
   "outputs": [
    {
     "data": {
      "text/plain": [
       "Heritage                                     Taj Mahal\n",
       "Total Number of Tourists arrivals in 2019      6900000\n",
       "Foreign Tourists arrivals                       883000\n",
       "Domestic Tourists arrivals                     6017000\n",
       "dtype: object"
      ]
     },
     "execution_count": 70,
     "metadata": {},
     "output_type": "execute_result"
    }
   ],
   "source": [
    "df2.max()"
   ]
  },
  {
   "cell_type": "markdown",
   "metadata": {},
   "source": [
    "# Min"
   ]
  },
  {
   "cell_type": "code",
   "execution_count": 71,
   "metadata": {},
   "outputs": [
    {
     "data": {
      "text/plain": [
       "Heritage                                     Agra Fort\n",
       "Total Number of Tourists arrivals in 2019        18000\n",
       "Foreign Tourists arrivals                         3352\n",
       "Domestic Tourists arrivals                       14518\n",
       "dtype: object"
      ]
     },
     "execution_count": 71,
     "metadata": {},
     "output_type": "execute_result"
    }
   ],
   "source": [
    "df2.min()"
   ]
  },
  {
   "cell_type": "code",
   "execution_count": 77,
   "metadata": {},
   "outputs": [
    {
     "data": {
      "text/html": [
       "<div>\n",
       "<style scoped>\n",
       "    .dataframe tbody tr th:only-of-type {\n",
       "        vertical-align: middle;\n",
       "    }\n",
       "\n",
       "    .dataframe tbody tr th {\n",
       "        vertical-align: top;\n",
       "    }\n",
       "\n",
       "    .dataframe thead th {\n",
       "        text-align: right;\n",
       "    }\n",
       "</style>\n",
       "<table border=\"1\" class=\"dataframe\">\n",
       "  <thead>\n",
       "    <tr style=\"text-align: right;\">\n",
       "      <th></th>\n",
       "      <th>Heritage sites</th>\n",
       "      <th>Total Number of Tourists arrivals in 2019</th>\n",
       "      <th>Foreign Tourists arrivals</th>\n",
       "      <th>Domestic Tourists arrivals</th>\n",
       "    </tr>\n",
       "  </thead>\n",
       "  <tbody>\n",
       "    <tr>\n",
       "      <th>0</th>\n",
       "      <td>Ajanta Caves</td>\n",
       "      <td>41134</td>\n",
       "      <td>3352</td>\n",
       "      <td>37782</td>\n",
       "    </tr>\n",
       "    <tr>\n",
       "      <th>1</th>\n",
       "      <td>Ellora Caves</td>\n",
       "      <td>18000</td>\n",
       "      <td>3482</td>\n",
       "      <td>14518</td>\n",
       "    </tr>\n",
       "    <tr>\n",
       "      <th>2</th>\n",
       "      <td>Agra Fort</td>\n",
       "      <td>2500000</td>\n",
       "      <td>526000</td>\n",
       "      <td>1974000</td>\n",
       "    </tr>\n",
       "    <tr>\n",
       "      <th>3</th>\n",
       "      <td>Taj Mahal</td>\n",
       "      <td>6900000</td>\n",
       "      <td>883000</td>\n",
       "      <td>6017000</td>\n",
       "    </tr>\n",
       "    <tr>\n",
       "      <th>4</th>\n",
       "      <td>Sun Temple, Konarak</td>\n",
       "      <td>2526359</td>\n",
       "      <td>65000</td>\n",
       "      <td>2461359</td>\n",
       "    </tr>\n",
       "  </tbody>\n",
       "</table>\n",
       "</div>"
      ],
      "text/plain": [
       "        Heritage sites  Total Number of Tourists arrivals in 2019  \\\n",
       "0         Ajanta Caves                                      41134   \n",
       "1         Ellora Caves                                      18000   \n",
       "2            Agra Fort                                    2500000   \n",
       "3            Taj Mahal                                    6900000   \n",
       "4  Sun Temple, Konarak                                    2526359   \n",
       "\n",
       "   Foreign Tourists arrivals  Domestic Tourists arrivals  \n",
       "0                       3352                       37782  \n",
       "1                       3482                       14518  \n",
       "2                     526000                     1974000  \n",
       "3                     883000                     6017000  \n",
       "4                      65000                     2461359  "
      ]
     },
     "execution_count": 77,
     "metadata": {},
     "output_type": "execute_result"
    }
   ],
   "source": [
    "df2 = pd.read_excel(\"Heritage visit.xlsx\")\n",
    "df2.head()"
   ]
  },
  {
   "cell_type": "markdown",
   "metadata": {},
   "source": [
    "# GroupBy Function"
   ]
  },
  {
   "cell_type": "code",
   "execution_count": 99,
   "metadata": {},
   "outputs": [
    {
     "name": "stderr",
     "output_type": "stream",
     "text": [
      "<ipython-input-99-236145e2ee30>:1: FutureWarning: Indexing with multiple keys (implicitly converted to a tuple of keys) will be deprecated, use a list instead.\n",
      "  df2.groupby(\"Heritage sites\")[\"Total Number of Tourists arrivals in 2019\",\"Foreign Tourists arrivals\"].min()\n"
     ]
    },
    {
     "data": {
      "text/html": [
       "<div>\n",
       "<style scoped>\n",
       "    .dataframe tbody tr th:only-of-type {\n",
       "        vertical-align: middle;\n",
       "    }\n",
       "\n",
       "    .dataframe tbody tr th {\n",
       "        vertical-align: top;\n",
       "    }\n",
       "\n",
       "    .dataframe thead th {\n",
       "        text-align: right;\n",
       "    }\n",
       "</style>\n",
       "<table border=\"1\" class=\"dataframe\">\n",
       "  <thead>\n",
       "    <tr style=\"text-align: right;\">\n",
       "      <th></th>\n",
       "      <th>Total Number of Tourists arrivals in 2019</th>\n",
       "      <th>Foreign Tourists arrivals</th>\n",
       "    </tr>\n",
       "    <tr>\n",
       "      <th>Heritage sites</th>\n",
       "      <th></th>\n",
       "      <th></th>\n",
       "    </tr>\n",
       "  </thead>\n",
       "  <tbody>\n",
       "    <tr>\n",
       "      <th>Agra Fort</th>\n",
       "      <td>2500000</td>\n",
       "      <td>526000</td>\n",
       "    </tr>\n",
       "    <tr>\n",
       "      <th>Ajanta Caves</th>\n",
       "      <td>41134</td>\n",
       "      <td>3352</td>\n",
       "    </tr>\n",
       "    <tr>\n",
       "      <th>Ellora Caves</th>\n",
       "      <td>18000</td>\n",
       "      <td>3482</td>\n",
       "    </tr>\n",
       "    <tr>\n",
       "      <th>Golden temple,Amritsar</th>\n",
       "      <td>100000</td>\n",
       "      <td>26548</td>\n",
       "    </tr>\n",
       "    <tr>\n",
       "      <th>Group of Monuments at Khajuraho</th>\n",
       "      <td>734831</td>\n",
       "      <td>80000</td>\n",
       "    </tr>\n",
       "    <tr>\n",
       "      <th>Sun Temple, Konarak</th>\n",
       "      <td>2526359</td>\n",
       "      <td>65000</td>\n",
       "    </tr>\n",
       "    <tr>\n",
       "      <th>Taj Mahal</th>\n",
       "      <td>6900000</td>\n",
       "      <td>883000</td>\n",
       "    </tr>\n",
       "  </tbody>\n",
       "</table>\n",
       "</div>"
      ],
      "text/plain": [
       "                                 Total Number of Tourists arrivals in 2019  \\\n",
       "Heritage sites                                                               \n",
       "Agra Fort                                                          2500000   \n",
       "Ajanta Caves                                                         41134   \n",
       "Ellora Caves                                                         18000   \n",
       "Golden temple,Amritsar                                              100000   \n",
       "Group of Monuments at Khajuraho                                     734831   \n",
       "Sun Temple, Konarak                                                2526359   \n",
       "Taj Mahal                                                          6900000   \n",
       "\n",
       "                                 Foreign Tourists arrivals  \n",
       "Heritage sites                                              \n",
       "Agra Fort                                           526000  \n",
       "Ajanta Caves                                          3352  \n",
       "Ellora Caves                                          3482  \n",
       "Golden temple,Amritsar                               26548  \n",
       "Group of Monuments at Khajuraho                      80000  \n",
       "Sun Temple, Konarak                                  65000  \n",
       "Taj Mahal                                           883000  "
      ]
     },
     "execution_count": 99,
     "metadata": {},
     "output_type": "execute_result"
    }
   ],
   "source": [
    "df2.groupby(\"Heritage sites\")[\"Total Number of Tourists arrivals in 2019\",\"Foreign Tourists arrivals\"].min()\n"
   ]
  },
  {
   "cell_type": "code",
   "execution_count": 79,
   "metadata": {},
   "outputs": [
    {
     "data": {
      "text/html": [
       "<div>\n",
       "<style scoped>\n",
       "    .dataframe tbody tr th:only-of-type {\n",
       "        vertical-align: middle;\n",
       "    }\n",
       "\n",
       "    .dataframe tbody tr th {\n",
       "        vertical-align: top;\n",
       "    }\n",
       "\n",
       "    .dataframe thead tr th {\n",
       "        text-align: left;\n",
       "    }\n",
       "\n",
       "    .dataframe thead tr:last-of-type th {\n",
       "        text-align: right;\n",
       "    }\n",
       "</style>\n",
       "<table border=\"1\" class=\"dataframe\">\n",
       "  <thead>\n",
       "    <tr>\n",
       "      <th></th>\n",
       "      <th colspan=\"2\" halign=\"left\">Foreign Tourists arrivals</th>\n",
       "      <th>Domestic Tourists arrivals</th>\n",
       "    </tr>\n",
       "    <tr>\n",
       "      <th></th>\n",
       "      <th>min</th>\n",
       "      <th>max</th>\n",
       "      <th>mean</th>\n",
       "    </tr>\n",
       "    <tr>\n",
       "      <th>Heritage sites</th>\n",
       "      <th></th>\n",
       "      <th></th>\n",
       "      <th></th>\n",
       "    </tr>\n",
       "  </thead>\n",
       "  <tbody>\n",
       "    <tr>\n",
       "      <th>Agra Fort</th>\n",
       "      <td>526000</td>\n",
       "      <td>526000</td>\n",
       "      <td>1974000</td>\n",
       "    </tr>\n",
       "    <tr>\n",
       "      <th>Ajanta Caves</th>\n",
       "      <td>3352</td>\n",
       "      <td>3352</td>\n",
       "      <td>37782</td>\n",
       "    </tr>\n",
       "    <tr>\n",
       "      <th>Ellora Caves</th>\n",
       "      <td>3482</td>\n",
       "      <td>3482</td>\n",
       "      <td>14518</td>\n",
       "    </tr>\n",
       "    <tr>\n",
       "      <th>Golden temple,Amritsar</th>\n",
       "      <td>26548</td>\n",
       "      <td>26548</td>\n",
       "      <td>73452</td>\n",
       "    </tr>\n",
       "    <tr>\n",
       "      <th>Group of Monuments at Khajuraho</th>\n",
       "      <td>80000</td>\n",
       "      <td>80000</td>\n",
       "      <td>654831</td>\n",
       "    </tr>\n",
       "    <tr>\n",
       "      <th>Sun Temple, Konarak</th>\n",
       "      <td>65000</td>\n",
       "      <td>65000</td>\n",
       "      <td>2461359</td>\n",
       "    </tr>\n",
       "    <tr>\n",
       "      <th>Taj Mahal</th>\n",
       "      <td>883000</td>\n",
       "      <td>883000</td>\n",
       "      <td>6017000</td>\n",
       "    </tr>\n",
       "  </tbody>\n",
       "</table>\n",
       "</div>"
      ],
      "text/plain": [
       "                                Foreign Tourists arrivals          \\\n",
       "                                                      min     max   \n",
       "Heritage sites                                                      \n",
       "Agra Fort                                          526000  526000   \n",
       "Ajanta Caves                                         3352    3352   \n",
       "Ellora Caves                                         3482    3482   \n",
       "Golden temple,Amritsar                              26548   26548   \n",
       "Group of Monuments at Khajuraho                     80000   80000   \n",
       "Sun Temple, Konarak                                 65000   65000   \n",
       "Taj Mahal                                          883000  883000   \n",
       "\n",
       "                                Domestic Tourists arrivals  \n",
       "                                                      mean  \n",
       "Heritage sites                                              \n",
       "Agra Fort                                          1974000  \n",
       "Ajanta Caves                                         37782  \n",
       "Ellora Caves                                         14518  \n",
       "Golden temple,Amritsar                               73452  \n",
       "Group of Monuments at Khajuraho                     654831  \n",
       "Sun Temple, Konarak                                2461359  \n",
       "Taj Mahal                                          6017000  "
      ]
     },
     "execution_count": 79,
     "metadata": {},
     "output_type": "execute_result"
    }
   ],
   "source": [
    "df2.groupby(\"Heritage sites\").agg({\"Foreign Tourists arrivals\": [\"min\",\"max\"],\"Domestic Tourists arrivals\" : \"mean\"})"
   ]
  },
  {
   "cell_type": "markdown",
   "metadata": {},
   "source": [
    "# isnull()"
   ]
  },
  {
   "cell_type": "code",
   "execution_count": 80,
   "metadata": {},
   "outputs": [
    {
     "data": {
      "text/html": [
       "<div>\n",
       "<style scoped>\n",
       "    .dataframe tbody tr th:only-of-type {\n",
       "        vertical-align: middle;\n",
       "    }\n",
       "\n",
       "    .dataframe tbody tr th {\n",
       "        vertical-align: top;\n",
       "    }\n",
       "\n",
       "    .dataframe thead th {\n",
       "        text-align: right;\n",
       "    }\n",
       "</style>\n",
       "<table border=\"1\" class=\"dataframe\">\n",
       "  <thead>\n",
       "    <tr style=\"text-align: right;\">\n",
       "      <th></th>\n",
       "      <th>Heritage sites</th>\n",
       "      <th>Total Number of Tourists arrivals in 2019</th>\n",
       "      <th>Foreign Tourists arrivals</th>\n",
       "      <th>Domestic Tourists arrivals</th>\n",
       "    </tr>\n",
       "  </thead>\n",
       "  <tbody>\n",
       "    <tr>\n",
       "      <th>0</th>\n",
       "      <td>False</td>\n",
       "      <td>False</td>\n",
       "      <td>False</td>\n",
       "      <td>False</td>\n",
       "    </tr>\n",
       "    <tr>\n",
       "      <th>1</th>\n",
       "      <td>False</td>\n",
       "      <td>False</td>\n",
       "      <td>False</td>\n",
       "      <td>False</td>\n",
       "    </tr>\n",
       "    <tr>\n",
       "      <th>2</th>\n",
       "      <td>False</td>\n",
       "      <td>False</td>\n",
       "      <td>False</td>\n",
       "      <td>False</td>\n",
       "    </tr>\n",
       "    <tr>\n",
       "      <th>3</th>\n",
       "      <td>False</td>\n",
       "      <td>False</td>\n",
       "      <td>False</td>\n",
       "      <td>False</td>\n",
       "    </tr>\n",
       "    <tr>\n",
       "      <th>4</th>\n",
       "      <td>False</td>\n",
       "      <td>False</td>\n",
       "      <td>False</td>\n",
       "      <td>False</td>\n",
       "    </tr>\n",
       "    <tr>\n",
       "      <th>5</th>\n",
       "      <td>False</td>\n",
       "      <td>False</td>\n",
       "      <td>False</td>\n",
       "      <td>False</td>\n",
       "    </tr>\n",
       "    <tr>\n",
       "      <th>6</th>\n",
       "      <td>False</td>\n",
       "      <td>False</td>\n",
       "      <td>False</td>\n",
       "      <td>False</td>\n",
       "    </tr>\n",
       "  </tbody>\n",
       "</table>\n",
       "</div>"
      ],
      "text/plain": [
       "   Heritage sites  Total Number of Tourists arrivals in 2019  \\\n",
       "0           False                                      False   \n",
       "1           False                                      False   \n",
       "2           False                                      False   \n",
       "3           False                                      False   \n",
       "4           False                                      False   \n",
       "5           False                                      False   \n",
       "6           False                                      False   \n",
       "\n",
       "   Foreign Tourists arrivals  Domestic Tourists arrivals  \n",
       "0                      False                       False  \n",
       "1                      False                       False  \n",
       "2                      False                       False  \n",
       "3                      False                       False  \n",
       "4                      False                       False  \n",
       "5                      False                       False  \n",
       "6                      False                       False  "
      ]
     },
     "execution_count": 80,
     "metadata": {},
     "output_type": "execute_result"
    }
   ],
   "source": [
    "df2.isnull()"
   ]
  },
  {
   "cell_type": "markdown",
   "metadata": {},
   "source": [
    "# notnull()"
   ]
  },
  {
   "cell_type": "code",
   "execution_count": 82,
   "metadata": {},
   "outputs": [
    {
     "data": {
      "text/html": [
       "<div>\n",
       "<style scoped>\n",
       "    .dataframe tbody tr th:only-of-type {\n",
       "        vertical-align: middle;\n",
       "    }\n",
       "\n",
       "    .dataframe tbody tr th {\n",
       "        vertical-align: top;\n",
       "    }\n",
       "\n",
       "    .dataframe thead th {\n",
       "        text-align: right;\n",
       "    }\n",
       "</style>\n",
       "<table border=\"1\" class=\"dataframe\">\n",
       "  <thead>\n",
       "    <tr style=\"text-align: right;\">\n",
       "      <th></th>\n",
       "      <th>Heritage sites</th>\n",
       "      <th>Total Number of Tourists arrivals in 2019</th>\n",
       "      <th>Foreign Tourists arrivals</th>\n",
       "      <th>Domestic Tourists arrivals</th>\n",
       "    </tr>\n",
       "  </thead>\n",
       "  <tbody>\n",
       "    <tr>\n",
       "      <th>0</th>\n",
       "      <td>True</td>\n",
       "      <td>True</td>\n",
       "      <td>True</td>\n",
       "      <td>True</td>\n",
       "    </tr>\n",
       "    <tr>\n",
       "      <th>1</th>\n",
       "      <td>True</td>\n",
       "      <td>True</td>\n",
       "      <td>True</td>\n",
       "      <td>True</td>\n",
       "    </tr>\n",
       "    <tr>\n",
       "      <th>2</th>\n",
       "      <td>True</td>\n",
       "      <td>True</td>\n",
       "      <td>True</td>\n",
       "      <td>True</td>\n",
       "    </tr>\n",
       "    <tr>\n",
       "      <th>3</th>\n",
       "      <td>True</td>\n",
       "      <td>True</td>\n",
       "      <td>True</td>\n",
       "      <td>True</td>\n",
       "    </tr>\n",
       "    <tr>\n",
       "      <th>4</th>\n",
       "      <td>True</td>\n",
       "      <td>True</td>\n",
       "      <td>True</td>\n",
       "      <td>True</td>\n",
       "    </tr>\n",
       "    <tr>\n",
       "      <th>5</th>\n",
       "      <td>True</td>\n",
       "      <td>True</td>\n",
       "      <td>True</td>\n",
       "      <td>True</td>\n",
       "    </tr>\n",
       "    <tr>\n",
       "      <th>6</th>\n",
       "      <td>True</td>\n",
       "      <td>True</td>\n",
       "      <td>True</td>\n",
       "      <td>True</td>\n",
       "    </tr>\n",
       "  </tbody>\n",
       "</table>\n",
       "</div>"
      ],
      "text/plain": [
       "   Heritage sites  Total Number of Tourists arrivals in 2019  \\\n",
       "0            True                                       True   \n",
       "1            True                                       True   \n",
       "2            True                                       True   \n",
       "3            True                                       True   \n",
       "4            True                                       True   \n",
       "5            True                                       True   \n",
       "6            True                                       True   \n",
       "\n",
       "   Foreign Tourists arrivals  Domestic Tourists arrivals  \n",
       "0                       True                        True  \n",
       "1                       True                        True  \n",
       "2                       True                        True  \n",
       "3                       True                        True  \n",
       "4                       True                        True  \n",
       "5                       True                        True  \n",
       "6                       True                        True  "
      ]
     },
     "execution_count": 82,
     "metadata": {},
     "output_type": "execute_result"
    }
   ],
   "source": [
    "df2.notnull()"
   ]
  },
  {
   "cell_type": "markdown",
   "metadata": {},
   "source": [
    "# Number of Missing Values"
   ]
  },
  {
   "cell_type": "code",
   "execution_count": 83,
   "metadata": {},
   "outputs": [
    {
     "data": {
      "text/plain": [
       "Heritage sites                               0\n",
       "Total Number of Tourists arrivals in 2019    0\n",
       "Foreign Tourists arrivals                    0\n",
       "Domestic Tourists arrivals                   0\n",
       "dtype: int64"
      ]
     },
     "execution_count": 83,
     "metadata": {},
     "output_type": "execute_result"
    }
   ],
   "source": [
    "df2.isnull().sum()"
   ]
  },
  {
   "cell_type": "markdown",
   "metadata": {},
   "source": [
    "# Filling of Missing Values"
   ]
  },
  {
   "cell_type": "code",
   "execution_count": 89,
   "metadata": {},
   "outputs": [
    {
     "name": "stdout",
     "output_type": "stream",
     "text": [
      "          Apple  Papaya  Guava  Carrot  Watermillion\n",
      "Basket A     40      50   60.0    70.0          90.0\n",
      "Basket B     87      42   63.0    30.0           NaN\n",
      "Basket C      4      65   34.0     NaN           NaN\n",
      "Basket D     65      34   21.0     NaN           NaN\n",
      "Basket E     57      89    NaN     NaN           NaN\n"
     ]
    }
   ],
   "source": [
    "import pandas as pd\n",
    "df3 = pd.DataFrame([[40, 50, 60, 70, 90], [87, 42, 63, 30], [4, 65, 34], [65, 34, 21], [57,89]],\n",
    "columns=['Apple', 'Papaya', 'Guava', 'Carrot', 'Watermillion'],\n",
    "index=['Basket A', 'Basket B', 'Basket C', 'Basket D', 'Basket E'])\n",
    "print(df)"
   ]
  },
  {
   "cell_type": "markdown",
   "metadata": {},
   "source": [
    "# Forward Filling"
   ]
  },
  {
   "cell_type": "code",
   "execution_count": 90,
   "metadata": {},
   "outputs": [
    {
     "data": {
      "text/html": [
       "<div>\n",
       "<style scoped>\n",
       "    .dataframe tbody tr th:only-of-type {\n",
       "        vertical-align: middle;\n",
       "    }\n",
       "\n",
       "    .dataframe tbody tr th {\n",
       "        vertical-align: top;\n",
       "    }\n",
       "\n",
       "    .dataframe thead th {\n",
       "        text-align: right;\n",
       "    }\n",
       "</style>\n",
       "<table border=\"1\" class=\"dataframe\">\n",
       "  <thead>\n",
       "    <tr style=\"text-align: right;\">\n",
       "      <th></th>\n",
       "      <th>Apple</th>\n",
       "      <th>Papaya</th>\n",
       "      <th>Guava</th>\n",
       "      <th>Carrot</th>\n",
       "      <th>Watermillion</th>\n",
       "    </tr>\n",
       "  </thead>\n",
       "  <tbody>\n",
       "    <tr>\n",
       "      <th>Basket A</th>\n",
       "      <td>40</td>\n",
       "      <td>50</td>\n",
       "      <td>60.0</td>\n",
       "      <td>70.0</td>\n",
       "      <td>90.0</td>\n",
       "    </tr>\n",
       "    <tr>\n",
       "      <th>Basket B</th>\n",
       "      <td>87</td>\n",
       "      <td>42</td>\n",
       "      <td>63.0</td>\n",
       "      <td>30.0</td>\n",
       "      <td>90.0</td>\n",
       "    </tr>\n",
       "    <tr>\n",
       "      <th>Basket C</th>\n",
       "      <td>4</td>\n",
       "      <td>65</td>\n",
       "      <td>34.0</td>\n",
       "      <td>30.0</td>\n",
       "      <td>90.0</td>\n",
       "    </tr>\n",
       "    <tr>\n",
       "      <th>Basket D</th>\n",
       "      <td>65</td>\n",
       "      <td>34</td>\n",
       "      <td>21.0</td>\n",
       "      <td>30.0</td>\n",
       "      <td>90.0</td>\n",
       "    </tr>\n",
       "    <tr>\n",
       "      <th>Basket E</th>\n",
       "      <td>57</td>\n",
       "      <td>89</td>\n",
       "      <td>21.0</td>\n",
       "      <td>30.0</td>\n",
       "      <td>90.0</td>\n",
       "    </tr>\n",
       "  </tbody>\n",
       "</table>\n",
       "</div>"
      ],
      "text/plain": [
       "          Apple  Papaya  Guava  Carrot  Watermillion\n",
       "Basket A     40      50   60.0    70.0          90.0\n",
       "Basket B     87      42   63.0    30.0          90.0\n",
       "Basket C      4      65   34.0    30.0          90.0\n",
       "Basket D     65      34   21.0    30.0          90.0\n",
       "Basket E     57      89   21.0    30.0          90.0"
      ]
     },
     "execution_count": 90,
     "metadata": {},
     "output_type": "execute_result"
    }
   ],
   "source": [
    "df3.ffill()"
   ]
  },
  {
   "cell_type": "markdown",
   "metadata": {},
   "source": [
    "# Backward Filling"
   ]
  },
  {
   "cell_type": "code",
   "execution_count": 91,
   "metadata": {},
   "outputs": [
    {
     "data": {
      "text/html": [
       "<div>\n",
       "<style scoped>\n",
       "    .dataframe tbody tr th:only-of-type {\n",
       "        vertical-align: middle;\n",
       "    }\n",
       "\n",
       "    .dataframe tbody tr th {\n",
       "        vertical-align: top;\n",
       "    }\n",
       "\n",
       "    .dataframe thead th {\n",
       "        text-align: right;\n",
       "    }\n",
       "</style>\n",
       "<table border=\"1\" class=\"dataframe\">\n",
       "  <thead>\n",
       "    <tr style=\"text-align: right;\">\n",
       "      <th></th>\n",
       "      <th>Apple</th>\n",
       "      <th>Papaya</th>\n",
       "      <th>Guava</th>\n",
       "      <th>Carrot</th>\n",
       "      <th>Watermillion</th>\n",
       "    </tr>\n",
       "  </thead>\n",
       "  <tbody>\n",
       "    <tr>\n",
       "      <th>Basket A</th>\n",
       "      <td>40</td>\n",
       "      <td>50</td>\n",
       "      <td>60.0</td>\n",
       "      <td>70.0</td>\n",
       "      <td>90.0</td>\n",
       "    </tr>\n",
       "    <tr>\n",
       "      <th>Basket B</th>\n",
       "      <td>87</td>\n",
       "      <td>42</td>\n",
       "      <td>63.0</td>\n",
       "      <td>30.0</td>\n",
       "      <td>NaN</td>\n",
       "    </tr>\n",
       "    <tr>\n",
       "      <th>Basket C</th>\n",
       "      <td>4</td>\n",
       "      <td>65</td>\n",
       "      <td>34.0</td>\n",
       "      <td>NaN</td>\n",
       "      <td>NaN</td>\n",
       "    </tr>\n",
       "    <tr>\n",
       "      <th>Basket D</th>\n",
       "      <td>65</td>\n",
       "      <td>34</td>\n",
       "      <td>21.0</td>\n",
       "      <td>NaN</td>\n",
       "      <td>NaN</td>\n",
       "    </tr>\n",
       "    <tr>\n",
       "      <th>Basket E</th>\n",
       "      <td>57</td>\n",
       "      <td>89</td>\n",
       "      <td>NaN</td>\n",
       "      <td>NaN</td>\n",
       "      <td>NaN</td>\n",
       "    </tr>\n",
       "  </tbody>\n",
       "</table>\n",
       "</div>"
      ],
      "text/plain": [
       "          Apple  Papaya  Guava  Carrot  Watermillion\n",
       "Basket A     40      50   60.0    70.0          90.0\n",
       "Basket B     87      42   63.0    30.0           NaN\n",
       "Basket C      4      65   34.0     NaN           NaN\n",
       "Basket D     65      34   21.0     NaN           NaN\n",
       "Basket E     57      89    NaN     NaN           NaN"
      ]
     },
     "execution_count": 91,
     "metadata": {},
     "output_type": "execute_result"
    }
   ],
   "source": [
    "df3.bfill()"
   ]
  },
  {
   "cell_type": "markdown",
   "metadata": {},
   "source": [
    "# Filling the Missing Values using Mean and fillna("
   ]
  },
  {
   "cell_type": "code",
   "execution_count": 5,
   "metadata": {},
   "outputs": [
    {
     "data": {
      "text/html": [
       "<div>\n",
       "<style scoped>\n",
       "    .dataframe tbody tr th:only-of-type {\n",
       "        vertical-align: middle;\n",
       "    }\n",
       "\n",
       "    .dataframe tbody tr th {\n",
       "        vertical-align: top;\n",
       "    }\n",
       "\n",
       "    .dataframe thead th {\n",
       "        text-align: right;\n",
       "    }\n",
       "</style>\n",
       "<table border=\"1\" class=\"dataframe\">\n",
       "  <thead>\n",
       "    <tr style=\"text-align: right;\">\n",
       "      <th></th>\n",
       "      <th>Apple</th>\n",
       "      <th>Papaya</th>\n",
       "      <th>Guava</th>\n",
       "      <th>Carrot</th>\n",
       "      <th>Watermillion</th>\n",
       "    </tr>\n",
       "  </thead>\n",
       "  <tbody>\n",
       "    <tr>\n",
       "      <th>Basket A</th>\n",
       "      <td>40</td>\n",
       "      <td>50</td>\n",
       "      <td>60.0</td>\n",
       "      <td>70.0</td>\n",
       "      <td>90.0</td>\n",
       "    </tr>\n",
       "    <tr>\n",
       "      <th>Basket B</th>\n",
       "      <td>87</td>\n",
       "      <td>42</td>\n",
       "      <td>63.0</td>\n",
       "      <td>30.0</td>\n",
       "      <td>90.0</td>\n",
       "    </tr>\n",
       "    <tr>\n",
       "      <th>Basket C</th>\n",
       "      <td>4</td>\n",
       "      <td>65</td>\n",
       "      <td>34.0</td>\n",
       "      <td>50.0</td>\n",
       "      <td>90.0</td>\n",
       "    </tr>\n",
       "    <tr>\n",
       "      <th>Basket D</th>\n",
       "      <td>65</td>\n",
       "      <td>34</td>\n",
       "      <td>21.0</td>\n",
       "      <td>50.0</td>\n",
       "      <td>90.0</td>\n",
       "    </tr>\n",
       "    <tr>\n",
       "      <th>Basket E</th>\n",
       "      <td>57</td>\n",
       "      <td>89</td>\n",
       "      <td>44.5</td>\n",
       "      <td>50.0</td>\n",
       "      <td>90.0</td>\n",
       "    </tr>\n",
       "  </tbody>\n",
       "</table>\n",
       "</div>"
      ],
      "text/plain": [
       "          Apple  Papaya  Guava  Carrot  Watermillion\n",
       "Basket A     40      50   60.0    70.0          90.0\n",
       "Basket B     87      42   63.0    30.0          90.0\n",
       "Basket C      4      65   34.0    50.0          90.0\n",
       "Basket D     65      34   21.0    50.0          90.0\n",
       "Basket E     57      89   44.5    50.0          90.0"
      ]
     },
     "execution_count": 5,
     "metadata": {},
     "output_type": "execute_result"
    }
   ],
   "source": [
    "df3.fillna(df3.mean(),inplace=True)\n",
    "df3"
   ]
  },
  {
   "cell_type": "markdown",
   "metadata": {},
   "source": [
    "# Stacking using non-hierarchical indexes"
   ]
  },
  {
   "cell_type": "code",
   "execution_count": 4,
   "metadata": {},
   "outputs": [
    {
     "name": "stdout",
     "output_type": "stream",
     "text": [
      "          Apple  Papaya  Guava  Carrot  Watermillion\n",
      "Basket A     40      50   60.0    70.0          90.0\n",
      "Basket B     87      42   63.0    30.0           NaN\n",
      "Basket C      4      65   34.0     NaN           NaN\n",
      "Basket D     65      34   21.0     NaN           NaN\n",
      "Basket E     57      89    NaN     NaN           NaN\n"
     ]
    }
   ],
   "source": [
    "import pandas as pd\n",
    "df3 = pd.DataFrame([[40, 50, 60, 70, 90], [87, 42, 63, 30], [4, 65, 34], [65, 34, 21], [57,89]],\n",
    "columns=['Apple', 'Papaya', 'Guava', 'Carrot', 'Watermillion'],\n",
    "index=['Basket A', 'Basket B', 'Basket C', 'Basket D', 'Basket E'])\n",
    "print(df3)"
   ]
  },
  {
   "cell_type": "code",
   "execution_count": 101,
   "metadata": {},
   "outputs": [
    {
     "name": "stdout",
     "output_type": "stream",
     "text": [
      "Basket A  Apple           40.0\n",
      "          Papaya          50.0\n",
      "          Guava           60.0\n",
      "          Carrot          70.0\n",
      "          Watermillion    90.0\n",
      "Basket B  Apple           87.0\n",
      "          Papaya          42.0\n",
      "          Guava           63.0\n",
      "          Carrot          30.0\n",
      "Basket C  Apple            4.0\n",
      "          Papaya          65.0\n",
      "          Guava           34.0\n",
      "Basket D  Apple           65.0\n",
      "          Papaya          34.0\n",
      "          Guava           21.0\n",
      "Basket E  Apple           57.0\n",
      "          Papaya          89.0\n",
      "dtype: float64\n"
     ]
    }
   ],
   "source": [
    "print(df.stack(level=-1))"
   ]
  },
  {
   "cell_type": "code",
   "execution_count": null,
   "metadata": {},
   "outputs": [],
   "source": []
  }
 ],
 "metadata": {
  "kernelspec": {
   "display_name": "Python 3",
   "language": "python",
   "name": "python3"
  },
  "language_info": {
   "codemirror_mode": {
    "name": "ipython",
    "version": 3
   },
   "file_extension": ".py",
   "mimetype": "text/x-python",
   "name": "python",
   "nbconvert_exporter": "python",
   "pygments_lexer": "ipython3",
   "version": "3.8.5"
  }
 },
 "nbformat": 4,
 "nbformat_minor": 4
}
